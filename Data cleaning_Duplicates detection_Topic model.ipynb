{
  "cells": [
    {
      "cell_type": "markdown",
      "metadata": {
        "id": "TEEKQwtYDMUz"
      },
      "source": [
        "**SOFT DEADLINE:** `20.03.2022 23:59 msk` "
      ]
    },
    {
      "cell_type": "markdown",
      "metadata": {
        "id": "g-IAo9sYDMU-"
      },
      "source": [
        "# [5 points] Part 1. Data cleaning"
      ]
    },
    {
      "cell_type": "markdown",
      "metadata": {
        "id": "-SNyjuGjDMU_"
      },
      "source": [
        "The task is to clear the text data of the crawled web-pages from different sites. \n",
        "\n",
        "It is necessary to ensure that the distribution of the 100 most frequent words includes only meaningful words in english language (not particles, conjunctions, prepositions, numbers, tags, symbols)."
      ]
    },
    {
      "cell_type": "markdown",
      "metadata": {
        "id": "TA4VkGl2DMVB"
      },
      "source": [
        "Determine the order of operations below and carry out the appropriate cleaning.\n",
        "\n",
        "1. Remove non-english words\n",
        "1. Remove html-tags (try to do it with regular expression, or play with beautifulsoap library)\n",
        "1. Apply lemmatization / stemming\n",
        "1. Remove stop-words\n",
        "1. Additional processing - At your own initiative, if this helps to obtain a better distribution"
      ]
    },
    {
      "cell_type": "markdown",
      "metadata": {
        "id": "hjLsB9pdDMVC"
      },
      "source": [
        "#### Hints"
      ]
    },
    {
      "cell_type": "markdown",
      "metadata": {
        "id": "mk6ZLncvDMVD"
      },
      "source": [
        "1. To do text processing you may use nltk and re libraries\n",
        "1. and / or any other libraries on your choise"
      ]
    },
    {
      "cell_type": "markdown",
      "metadata": {},
      "source": [
        "#### Import libraries"
      ]
    },
    {
      "cell_type": "code",
      "execution_count": 117,
      "metadata": {},
      "outputs": [
        {
          "name": "stderr",
          "output_type": "stream",
          "text": [
            "[nltk_data] Downloading package averaged_perceptron_tagger to\n",
            "[nltk_data]     C:\\Users\\User\\AppData\\Roaming\\nltk_data...\n",
            "[nltk_data]   Package averaged_perceptron_tagger is already up-to-\n",
            "[nltk_data]       date!\n",
            "[nltk_data] Error loading stop_words: Package 'stop_words' not found\n",
            "[nltk_data]     in index\n"
          ]
        },
        {
          "data": {
            "text/plain": [
              "False"
            ]
          },
          "execution_count": 117,
          "metadata": {},
          "output_type": "execute_result"
        }
      ],
      "source": [
        "import csv\n",
        "from bs4 import BeautifulSoup\n",
        "# BeautifulSoup: This library helps us to get the HTML structure of the page that we want to work with. \n",
        "# We can then, use its functions to access specific elements and extract relevant information.\n",
        "import nltk\n",
        "import re\n",
        "import string\n",
        "from nltk.tokenize import word_tokenize\n",
        "from nltk.corpus import wordnet,stopwords, words\n",
        "from nltk.stem import WordNetLemmatizer\n",
        "nltk.download('averaged_perceptron_tagger')\n",
        "nltk.download('stopwords')\n",
        "nltk.download('wordnet')"
      ]
    },
    {
      "cell_type": "markdown",
      "metadata": {
        "id": "KCbTa1OiDMVE"
      },
      "source": [
        "#### Data reading"
      ]
    },
    {
      "cell_type": "markdown",
      "metadata": {
        "id": "cXbG649IDMVG"
      },
      "source": [
        "The dataset for this part can be downloaded here: `https://drive.google.com/file/d/1wLwo83J-ikCCZY2RAoYx8NghaSaQ-lBA/view?usp=sharing`"
      ]
    },
    {
      "cell_type": "code",
      "execution_count": 75,
      "metadata": {
        "id": "HN8UxSDkDMVH"
      },
      "outputs": [],
      "source": [
        "# Open and Read the content of the CSV file \n",
        "data_file =open(\"web_sites_data.csv\",'r')\n",
        "data_file = csv.reader(data_file)"
      ]
    },
    {
      "cell_type": "markdown",
      "metadata": {
        "id": "fGBTg9g4DMVJ"
      },
      "source": [
        "#### Data processing"
      ]
    },
    {
      "cell_type": "code",
      "execution_count": 141,
      "metadata": {},
      "outputs": [],
      "source": [
        "stop_words = set(stopwords.words('english'))\n",
        "table = str.maketrans('', '', string.punctuation)\n",
        "lemmatizer = WordNetLemmatizer()\n"
      ]
    },
    {
      "cell_type": "code",
      "execution_count": 110,
      "metadata": {},
      "outputs": [],
      "source": [
        "def remove_tags(html_text):\n",
        "    # parse html content\n",
        "    soup = BeautifulSoup(html_text, \"html.parser\")\n",
        "    # get the title of the document\n",
        "    title=soup.title.get_text()\n",
        "    for data in soup(['style', 'script','a']):\n",
        "        # Remove tags and links\n",
        "        data.decompose()\n",
        "    # return data by retrieving the tag content\n",
        "    return (title,' '.join(soup.stripped_strings))"
      ]
    },
    {
      "cell_type": "code",
      "execution_count": 139,
      "metadata": {},
      "outputs": [],
      "source": [
        "# POS_TAGGER_FUNCTION : TYPE 1\n",
        "def pos_tagger(nltk_tag):\n",
        "    if nltk_tag.startswith('J'):\n",
        "        return wordnet.ADJ\n",
        "    elif nltk_tag.startswith('V'):\n",
        "        return wordnet.VERB\n",
        "    elif nltk_tag.startswith('N'):\n",
        "        return wordnet.NOUN\n",
        "    elif nltk_tag.startswith('R'):\n",
        "        return wordnet.ADV\n",
        "    else:         \n",
        "        return None"
      ]
    },
    {
      "cell_type": "code",
      "execution_count": 151,
      "metadata": {},
      "outputs": [
        {
          "data": {
            "text/plain": [
              "['hell', 'eat', 'apple']"
            ]
          },
          "execution_count": 151,
          "metadata": {},
          "output_type": "execute_result"
        }
      ],
      "source": [
        "def clean_document(text):\n",
        "    lemmatized_sentences = [] # a list to hold the lemmas of the current passed document\n",
        "    # splitting the document into sentences\n",
        "    sentences = nltk.sent_tokenize(text)\n",
        "    # Iterating over the sentences\n",
        "    for sentence in sentences: \n",
        "        # Tokenizing each sentence individually\n",
        "        wordsList = word_tokenize(sentence) \n",
        "        # Removing punctuation from each word\n",
        "        no_punct = [ w.translate(table).lower() for w in wordsList]\n",
        "        # Removing stop words and non alphabtecis words and non english words\n",
        "        wordsList = [w for w in no_punct if w not in stop_words and w.isalpha() and w in words.words()]\n",
        "        # Using a Tagger. Which is part-of-speech tagger or POS-tagger. \n",
        "        sentence_tagged = nltk.pos_tag(wordsList) \n",
        "        # writing the PoS tags in a more proper way\n",
        "        wordnet_tagged = list(map(lambda x: (x[0], pos_tagger(x[1])), sentence_tagged))\n",
        "        for word, tag in wordnet_tagged:\n",
        "            if tag is None:\n",
        "                # if there is no available tag, append the token as is\n",
        "                lemmatized_sentences.append(word)\n",
        "            else:       \n",
        "                # else use the tag to lemmatize the token\n",
        "                lemmatized_sentences.append(lemmatizer.lemmatize(word, tag))\n",
        "    return (lemmatized_sentences)\n",
        "text = \"Wh.at the he/ll are you doi.ng? I am eating an apple.\"\n",
        "clean_document(text)\n"
      ]
    },
    {
      "cell_type": "code",
      "execution_count": 111,
      "metadata": {},
      "outputs": [
        {
          "name": "stdout",
          "output_type": "stream",
          "text": [
            "['\\n\\n\\n\\n\\n<!DOCTYPE html PUBLIC \"-//W3C//DTD XHTML 1.0 Transitional//EN\" \"http://www.w3.org/TR/xhtml1/DTD/xhtml1-transitional.dtd\">\\n<html xmlns=\"http://www.w3.org/1999/xhtml\" lang=\"en\">\\n<head>\\n    <title>Wings - Blackwell\\'s Bookshop Online</title>\\n    <meta http-equiv=\"Content-Type\" content=\"text/html; charset=ISO-8859-1\" />\\n    <meta name=\"ROBOTS\" content=\"INDEX,FOLLOW\" />\\n\\n    <meta name=\"Description\" content=\"Wings, Dominic Couzens, Nature Books - Blackwell Online Bookshop\" />\\n    <meta name=\"Keywords\" content=\"Wings, Dominic Couzens, Nature, A comprehensive guide to the birds of Great Britain, this book combines identification information with illustrations showing habitats, behaviour and flight patterns. Resident and regular visitors are featured in a separate section. It includes a full species checklist and a list of organizations. books, book, books, bookshop, books online, buy books online, blackwell, blackwells, blackwell\\'s, blackwell books, blackwell online, blackwell\" />\\n    <meta http-equiv=\"X-UA-Compatible\" content=\"IE=EmulateIE7\" />\\n\\n    <link type=\"text/css\" rel=\"stylesheet\" href=\"/assets/styles2011/styles.css\" />\\n    <link type=\"text/css\" rel=\"stylesheet\" href=\"/assets/styles2011/buttons.css\" />\\n    <link type=\"text/css\" rel=\"stylesheet\" href=\"/assets/styles2011/jquery.selectBox.css\" />\\n    <link type=\"text/css\" rel=\"stylesheet\" href=\"/assets/styles2011/jquery.selectBox-custom.css\" />\\n    <!--[if IE]>\\n    <link type=\"text/css\" rel=\"stylesheet\" href=\"/assets/styles2011/styles-ie7.css\" title=\"ie\" />\\n    <![endif]-->\\n\\n    <script type=\"text/javascript\" src=\"/assets/scripts/jquery-1.6.2.min.js\"></script>\\n    <script type=\"text/javascript\" src=\"/assets/scripts/jquery.selectBox.min.js\"></script>\\n    <script type=\"text/javascript\" src=\"/assets/scripts/global.js\"></script>\\n    <!--<script type=\"text/javascript\" src=\"/assets/scripts/swfobject.js\"></script>-->\\n    <script type=\"text/javascript\" src=\"/assets/scripts/tabs.js\"></script>\\n\\n    \\n    \\n    <script type=\"text/javascript\">\\n        $(document).ready(function() {\\n            $(\"select\").selectBox();\\n            $(\"select\").selectBox(\\'settings\\', {\\n                                    \\'menuTransition\\': \\'fade\\',\\n                                    \\'menuSpeed\\' : \\'fast\\'\\n                                    });\\n            $(\"ul.selectBox-options\").children(\"li\").each(function() {\\n                var text = $.trim($(this).children(\"a\").first().text());\\n                $(this).children(\"a\").first().attr(\"title\", text);\\n            });\\n        });\\n    </script>\\n</head>\\n\\n\\n<body>\\n\\n\\n\\n\\n\\n<a name=\"Top\"></a>\\n<!-- start of banner and top menu table layout -->\\n<div id=\"banner-container\" class=\"header-layout\">\\n    <!-- this is the top part of the banner (the logo, graphic, shopping, search, login) -->\\n    \\n    <div id=\"banner-header\" style=\"background: url(/assets/images2011/header-bg.png) no-repeat 120px top;\">\\n        <div id=\"banner-search\">\\n            \\n                \\n                    <a href=\"https://bookshop.blackwell.co.uk/jsp/login/signon.jsp;jsessionid=48A2DFE4B5F36359FD09EE406794B869.bobcatt1\">Login</a> <a href=\"https://bookshop.blackwell.co.uk/jsp/registration/reg_personal.jsp;jsessionid=48A2DFE4B5F36359FD09EE406794B869.bobcatt1\">Register</a> <a href=\"http://bookshop.blackwell.co.uk/jsp/help.jsp;jsessionid=48A2DFE4B5F36359FD09EE406794B869.bobcatt1\">Help</a> <a href=\"http://bookshop.blackwell.co.uk/jsp/contact.jsp;jsessionid=48A2DFE4B5F36359FD09EE406794B869.bobcatt1\">Contact us</a>\\n                \\n                <br />\\n            \\n            <form id=\"quicksearch\" name=\"quicksearch\" action=\"http://bookshop.blackwell.co.uk/jsp/search_results.jsp;jsessionid=48A2DFE4B5F36359FD09EE406794B869.bobcatt1\" method=\"get\">\\n                <input type=\"hidden\" name=\"wcp\" value=\"1\" />\\n                <input type=\"hidden\" name=\"quicksearch\" value=\"1\" />\\n                <input type=\"hidden\" name=\"cntType\" value=\"\" />\\n                <input type=\"hidden\" name=\"searchType\" value=\"keywords\" />\\n                <input type=\"text\" name=\"searchData\" id=\"searchData\" value=\"9780002200691\" />\\n                <button type=\"submit\" id=\"qs-btn\" name=\"qs-btn\" value=\"qs-btn\"><img src=\"/assets/images2011/search-btn.png\" /></button>\\n            </form>\\n            <br />\\n            <a href=\"http://bookshop.blackwell.co.uk/jsp/adv_search.jsp;jsessionid=48A2DFE4B5F36359FD09EE406794B869.bobcatt1\" id=\"adv_search\">Advanced Search Options</a>\\n\\n            \\n\\n        </div> <!-- end banner-search -->\\n\\n\\n        <div id=\"shopping-basket\">\\n            <p class=\"icon\">Shopping Basket</p>\\n            \\n                <p><a href=\"http://bookshop.blackwell.co.uk/jsp/category.jsp;jsessionid=48A2DFE4B5F36359FD09EE406794B869.bobcatt1?route=buy\">Currently empty</a></p>\\n            \\n        </div> <!-- end shopping-basket -->\\n        <div id=\"banner-logo\">\\n            <a href=\"http://bookshop.blackwell.co.uk/jsp/editorial/BTU_home.jsp;jsessionid=48A2DFE4B5F36359FD09EE406794B869.bobcatt1?dept=Book\"><img src=\"/assets/images2011/logo.png\" alt=\"\" width=\"168\" height=\"110\" /></a>\\n        </div>\\n\\n\\n    </div> <!-- end banner-header -->\\n\\n    <table border=\"0\" cellspacing=\"0\" id=\"menu\" width=\"100%\">\\n        <tr align=\"center\" valign=\"middle\">\\n            <td ><a href=\"http://bookshop.blackwell.co.uk/jsp/editorial/BTU_home.jsp;jsessionid=48A2DFE4B5F36359FD09EE406794B869.bobcatt1?dept=Book\">HOME</a></td>\\n            <td><img src=\"/assets/images2011/menu_divider.gif\" alt=\"\" /></td>\\n            <td ><a href=\"http://bookshop.blackwell.co.uk/jsp/editorial/corporate/corporate_and_professional.jsp;jsessionid=48A2DFE4B5F36359FD09EE406794B869.bobcatt1?route=corporate\">BUSINESSES</a></td>\\n            <td><img src=\"/assets/images2011/menu_divider.gif\" alt=\"\" /></td>\\n            <td ><a href=\"http://bookshop.blackwell.co.uk/jsp/editorial/students/students.jsp;jsessionid=48A2DFE4B5F36359FD09EE406794B869.bobcatt1?route=students\">STUDENTS</a></td>\\n            <td><img src=\"/assets/images2011/menu_divider.gif\" alt=\"\" /></td>\\n            <td ><a href=\"http://bookshop.blackwell.co.uk/jsp/editorial/browse/Bursary_Schemes.jsp;jsessionid=48A2DFE4B5F36359FD09EE406794B869.bobcatt1?route=bursaries\">BURSARIES</a></td>\\n            <td><img src=\"/assets/images2011/menu_divider.gif\" alt=\"\" /></td>\\n            <td ><a href=\"http://bookshop.blackwell.co.uk/jsp/editorial/shops/index.jsp;jsessionid=48A2DFE4B5F36359FD09EE406794B869.bobcatt1?route=shops\">OUR SHOPS</a></td>\\n            <td><img src=\"/assets/images2011/menu_divider.gif\" alt=\"\" /></td>\\n            <td ><a href=\"http://bookshop.blackwell.co.uk/jsp/editorial/shops/instore_events.jsp;jsessionid=48A2DFE4B5F36359FD09EE406794B869.bobcatt1?route=events\">EVENTS</a></td>\\n            <td><img src=\"/assets/images2011/menu_divider.gif\" alt=\"\" /></td>\\n            <td ><a href=\"http://bookshop.blackwell.co.uk/jsp/rewards/main.jsp;jsessionid=48A2DFE4B5F36359FD09EE406794B869.bobcatt1?route=rewards&amp;dept=none&amp;type=givx\">REWARD<br />CARD</a></td>\\n        </tr>\\n    </table> <!-- end top menu -->\\n</div> <!-- end banner-container -->\\n\\n\\n\\n\\n<!-- end agent headers if appropriate -->\\n\\n\\n\\n    <!-- start secondary menu layout table -->\\n    <table border=\"0\" cellspacing=\"0\" cellpadding=\"0\" id=\"top-nav\" class=\"content-layout\">\\n        <tr align=\"left\" valign=\"middle\">\\n            <td ><a href=\"http://bookshop.blackwell.co.uk/jsp/category.jsp;jsessionid=48A2DFE4B5F36359FD09EE406794B869.bobcatt1?dept=Book\">BOOKS</a></td>\\n            <td ><a href=\"http://bookshop.blackwell.co.uk/jsp/category.jsp;jsessionid=48A2DFE4B5F36359FD09EE406794B869.bobcatt1?dept=EBook\">EBOOKS</a></td>\\n            <td ><a href=\"http://bookshop.blackwell.co.uk/jsp/editorial/rare_books.jsp;jsessionid=48A2DFE4B5F36359FD09EE406794B869.bobcatt1?dept=RareBooks&amp;\">RARE BOOKS</a></td>\\n            <td ><a href=\"http://bookshop.blackwell.co.uk/jsp/category.jsp;jsessionid=48A2DFE4B5F36359FD09EE406794B869.bobcatt1?dept=Classical\">CLASSICAL CDs</a></td>\\n            <td ><a href=\"http://bookshop.blackwell.co.uk/jsp/category.jsp;jsessionid=48A2DFE4B5F36359FD09EE406794B869.bobcatt1?dept=DVD\">DVDs</a></td>\\n            <td ><a href=\"http://bookshop.blackwell.co.uk/jsp/category.jsp;jsessionid=48A2DFE4B5F36359FD09EE406794B869.bobcatt1?dept=PrintedMusic\">PRINTED MUSIC</a></td>\\n            <td ><a href=\"http://bookshop.blackwell.co.uk/jsp/editorial/browse/podcasts/podcasts_index.jsp;jsessionid=48A2DFE4B5F36359FD09EE406794B869.bobcatt1?dept=Pod\">PODCASTS</a></td>\\n            <td ><a href=\"http://bookshop.blackwell.co.uk/jsp/editorial/browse/promotions_index.jsp;jsessionid=48A2DFE4B5F36359FD09EE406794B869.bobcatt1?dept=Offers\">OFFERS</a></td>\\n        </tr>\\n    </table>\\n\\n<!-- start main page layout table -->\\n<table border=\"0\" cellspacing=\"0\" cellpadding=\"0\" class=\"content-layout\" id=\"content-container\">\\n\\n\\n\\n<!-- Anshul -->\\n\\n\\n<!-- end of mobile header - Anshul Tiwari -->\\n\\n\\n\\n<!-- Added by Anshul for mobile site -->\\n\\n\\n<!-- anshul -->\\n\\n\\n\\n\\n\\n\\n\\n\\n\\n\\n\\n\\n\\n<tr align=\"left\" valign=\"top\">\\n\\n\\n\\n    \\n\\n\\n    <!-- left navigation panel  -->\\n    <td width=\"188\" id=\"left-nav\">\\n\\n        \\n\\n            \\n            <table width=\"188\"><tr valign=\"middle\"><td width=\"188\" align=\"center\"><a href=\"http://bookshop.blackwell.co.uk/jsp/editorial/index.jsp;jsessionid=48A2DFE4B5F36359FD09EE406794B869.bobcatt1?nAS=true\"><img src=\"/assets/images2011/notastudent.gif\" style=\"margin:10px 0 0 0\" alt=\"Not a student? Click to return to main home page.\"></a></td></tr></table>\\n            \\n\\n        \\n            <ul>\\n<li><a  href=\"http://bookshop.blackwell.co.uk/jsp/category.jsp;jsessionid=48A2DFE4B5F36359FD09EE406794B869.bobcatt1?new_cat=-169272\">Art and Craft </a></li>\\n<li><a  href=\"http://bookshop.blackwell.co.uk/jsp/category.jsp;jsessionid=48A2DFE4B5F36359FD09EE406794B869.bobcatt1?new_cat=-169273\">Business and Economics </a></li>\\n<li><a  href=\"http://bookshop.blackwell.co.uk/jsp/category.jsp;jsessionid=48A2DFE4B5F36359FD09EE406794B869.bobcatt1?new_cat=-169274\">Children\\'s </a></li>\\n<li><a  href=\"http://bookshop.blackwell.co.uk/jsp/category.jsp;jsessionid=48A2DFE4B5F36359FD09EE406794B869.bobcatt1?new_cat=-169275\">Classics and Ancient History </a></li>\\n<li><a  href=\"http://bookshop.blackwell.co.uk/jsp/category.jsp;jsessionid=48A2DFE4B5F36359FD09EE406794B869.bobcatt1?new_cat=-169276\">Computing </a></li>\\n<li><a  href=\"http://bookshop.blackwell.co.uk/jsp/category.jsp;jsessionid=48A2DFE4B5F36359FD09EE406794B869.bobcatt1?new_cat=-169277\">Education </a></li>\\n<li><a  href=\"http://bookshop.blackwell.co.uk/jsp/category.jsp;jsessionid=48A2DFE4B5F36359FD09EE406794B869.bobcatt1?new_cat=-169278\">Fiction </a></li>\\n<li><a  href=\"http://bookshop.blackwell.co.uk/jsp/category.jsp;jsessionid=48A2DFE4B5F36359FD09EE406794B869.bobcatt1?new_cat=-169279\">General Books </a></li>\\n<li><a  href=\"http://bookshop.blackwell.co.uk/jsp/category.jsp;jsessionid=48A2DFE4B5F36359FD09EE406794B869.bobcatt1?new_cat=-169280\">History </a></li>\\n<li><a  href=\"http://bookshop.blackwell.co.uk/jsp/category.jsp;jsessionid=48A2DFE4B5F36359FD09EE406794B869.bobcatt1?new_cat=-169281\">Languages and Reference </a></li>\\n<li><a  href=\"http://bookshop.blackwell.co.uk/jsp/category.jsp;jsessionid=48A2DFE4B5F36359FD09EE406794B869.bobcatt1?new_cat=-169282\">Law and Official Publications </a></li>\\n<li><a  href=\"http://bookshop.blackwell.co.uk/jsp/category.jsp;jsessionid=48A2DFE4B5F36359FD09EE406794B869.bobcatt1?new_cat=-169283\">Life Sciences </a></li>\\n<li><a  href=\"http://bookshop.blackwell.co.uk/jsp/category.jsp;jsessionid=48A2DFE4B5F36359FD09EE406794B869.bobcatt1?new_cat=-169284\">Literature </a></li>\\n<li><a  href=\"http://bookshop.blackwell.co.uk/jsp/category.jsp;jsessionid=48A2DFE4B5F36359FD09EE406794B869.bobcatt1?new_cat=-169285\">Maps and Travel </a></li>\\n<li><a  href=\"http://bookshop.blackwell.co.uk/jsp/category.jsp;jsessionid=48A2DFE4B5F36359FD09EE406794B869.bobcatt1?new_cat=-169286\">Medicine and Health </a></li>\\n<li><a  href=\"http://bookshop.blackwell.co.uk/jsp/category.jsp;jsessionid=48A2DFE4B5F36359FD09EE406794B869.bobcatt1?new_cat=-169287\">Mind, Body and Spirit </a></li>\\n<li><a  href=\"http://bookshop.blackwell.co.uk/jsp/category.jsp;jsessionid=48A2DFE4B5F36359FD09EE406794B869.bobcatt1?new_cat=-169288\">Music Books </a></li>\\n<li><a  href=\"http://bookshop.blackwell.co.uk/jsp/category.jsp;jsessionid=48A2DFE4B5F36359FD09EE406794B869.bobcatt1?new_cat=-169289\">Philosophy </a></li>\\n<li><a  href=\"http://bookshop.blackwell.co.uk/jsp/category.jsp;jsessionid=48A2DFE4B5F36359FD09EE406794B869.bobcatt1?new_cat=-169290\">Politics and Current Affairs </a></li>\\n<li><a  href=\"http://bookshop.blackwell.co.uk/jsp/category.jsp;jsessionid=48A2DFE4B5F36359FD09EE406794B869.bobcatt1?new_cat=-169291\">Psychology </a></li>\\n<li><a  href=\"http://bookshop.blackwell.co.uk/jsp/category.jsp;jsessionid=48A2DFE4B5F36359FD09EE406794B869.bobcatt1?new_cat=-169292\">Religion </a></li>\\n<li><a  href=\"http://bookshop.blackwell.co.uk/jsp/category.jsp;jsessionid=48A2DFE4B5F36359FD09EE406794B869.bobcatt1?new_cat=-169293\">Science and Technical </a></li>\\n<li><a  href=\"http://bookshop.blackwell.co.uk/jsp/category.jsp;jsessionid=48A2DFE4B5F36359FD09EE406794B869.bobcatt1?new_cat=-169294\">Society and Culture </a></li>\\n<li><a  href=\"http://bookshop.blackwell.co.uk/jsp/search_results.jsp;jsessionid=48A2DFE4B5F36359FD09EE406794B869.bobcatt1?catOID=-170299\">Stationery &amp; Gifts </a></li>\\n</ul>\\n\\n        \\n\\n\\n    <br>\\n    \\n\\n    </td>\\n    <!-- empty: separator  -->\\n    <td width=\"10\">&nbsp;</td>\\n    <td width=\"734\" class=\"two-col-right\">\\n\\n    \\n\\n\\n\\n\\n\\n\\n\\n\\n\\n\\n\\n\\n    <!-- start layout table for middle and right column -->\\n    <table width=\"100%\" border=\"0\" cellspacing=\"0\" cellpadding=\"0\">\\n        <tr >\\n            <!-- start middle column  -->\\n            <td width=\"433\"  valign=\"top\">\\n            \\n                <!-- start product biblio layout -->\\n\\n                <div id=\"bread-crumb\"><a class=\"bookLinkBold\" href=\"http://bookshop.blackwell.co.uk/jsp/index.jsp;jsessionid=48A2DFE4B5F36359FD09EE406794B869.bobcatt1\">Home</a> &gt; <a class=\"bookLinkBold\" href=\"http://bookshop.blackwell.co.uk/jsp/category.jsp;jsessionid=48A2DFE4B5F36359FD09EE406794B869.bobcatt1?catOID=-169269&BISAC=\">Books</a> &gt; <a class=\"bookLinkBold\" href=\"http://bookshop.blackwell.co.uk/jsp/category.jsp;jsessionid=48A2DFE4B5F36359FD09EE406794B869.bobcatt1?catOID=-169283&BISAC=NAT\">Life Sciences</a> &gt; <a class=\"bookLinkBold\" href=\"http://bookshop.blackwell.co.uk/jsp/category.jsp;jsessionid=48A2DFE4B5F36359FD09EE406794B869.bobcatt1?catOID=-170825&BISAC=NAT000000\">Natural History</a> &gt; <a class=\"bookLinkBold\" href=\"http://bookshop.blackwell.co.uk/jsp/category.jsp;jsessionid=48A2DFE4B5F36359FD09EE406794B869.bobcatt1?catOID=-170830&BISAC=NAT004000\">Birds and Birdwatching</a></div>\\n\\n                <div id=\"product-biblio\">\\n                    <!-- start product image layout -->\\n                    <div id=\"product-image\">\\n                        \\n                        \\n                                <div id=\"ISBN9780002200691\" class=\"book\">\\n                                    <a style=\"margin: 2px 2px 2px 2px; display:none; visibility:hidden;\" id=\"preview2\"  href=\"javascript:openHelpWindowSize(\\'http://bookshop.blackwell.co.uk/jsp/preview2.jsp;jsessionid=48A2DFE4B5F36359FD09EE406794B869.bobcatt1?isbn=9780002200691\\',\\'850\\',\\'750\\');\"><img src=\"/assets/images2011/buttons/google-preview.gif\" border=\"0\" title=\"Look inside this book\" alt=\"Look inside this book\" /></a>\\n                                </div>\\n                        \\n                        \\n                        \\n                            <a href=\"http://bookshop.blackwell.co.uk/jsp/display_large_jacket.jsp;jsessionid=48A2DFE4B5F36359FD09EE406794B869.bobcatt1?isbn=9780002200691\"><img class=\"jacket\" width=\"125\" border=\"1\" title=\"ISBN: 9780002200691 - Wings\" alt=\"ISBN: 9780002200691 - Wings\" src=\"/images/jackets/m/00/0002200694.jpg\" /></a>\\n                        \\n\\n                        \\n                            <div class=\"images\"></div>\\n                        \\n                        <a class=\"elarger\" href=\"http://bookshop.blackwell.co.uk/jsp/display_large_jacket.jsp;jsessionid=48A2DFE4B5F36359FD09EE406794B869.bobcatt1?isbn=9780002200691\"><img src=\"/assets/images2011/elarger.png\" alt=\"\" width=\"11\" height=\"11\" title=\"\" />&nbsp;Enlarge</a>\\n                        \\n                            <!-- AddThis Button BEGIN -->\\n                            <a class=\"addthis_button\" href=\"http://www.addthis.com/bookmark.php?v=250&amp;username=blackwellbooks\"><img src=\"http://s7.addthis.com/static/btn/v2/lg-share-en.gif\" width=\"125\" height=\"16\" alt=\"Bookmark and Share\" style=\"border:0\"/></a>\\n                            <script type=\"text/javascript\">var addthis_config = {\"data_track_clickback\":true};</script>\\n                            <script type=\"text/javascript\" src=\"http://s7.addthis.com/js/250/addthis_widget.js#username=blackwellbooks\"></script>\\n                            <!-- AddThis Button END -->\\n                        \\n                    </div> <!-- end product image layout -->\\n\\n                    <!-- start product meta layout table -->\\n\\n                    \\n                    <h1><a class=\"link_type1\" title=\"Search for other items with this title\" href=\"/jsp/search_results.jsp;jsessionid=48A2DFE4B5F36359FD09EE406794B869.bobcatt1?title=Wings&amp;titleStem=&amp;otherbooks=true&amp;titleOp=AND\">Wings</a></h1>\\n                    \\n\\n                    \\n                    \\n\\n                        <div style=\"float: right; width: 90px\">\\n                            \\n                        </div>\\n\\n                    \\n                    \\n\\n                    \\n                    <h2>Guide to British Birds</h2>\\n                    \\n                        \\n                    \\n\\n                    \\n                    \\n                    \\n\\n                    <a class=\"link_type1\" title=\"Search for other titles by this author\"  href=\"http://bookshop.blackwell.co.uk/jsp/search_results.jsp;jsessionid=48A2DFE4B5F36359FD09EE406794B869.bobcatt1?author=Dominic+Couzens&otherbooks=true&authorOp=AND\">Dominic Couzens</a><br />\\n                    \\n\\n                    <p id=\"product-info\">\\n                    \\n                        <span class=\"product-info-label\">ISBN:</span> 9780002200691<br />\\n                    \\n                    \\n                        <span class=\"product-info-label\">Format:</span> Paperback<br />\\n                    \\n\\n                    <span class=\"product-info-label\"> Publisher:</span><a class=\"link_type1\" title=\"Search for other titles from this publisher\" href=\"/jsp/search_results.jsp;jsessionid=48A2DFE4B5F36359FD09EE406794B869.bobcatt1?publisher=HarperCollins+Publishers\">HarperCollins Publishers</a><br />\\n                    \\n                    \\n                    \\n                        <span class=\"product-info-label\">Edition:</span> Television tie-in edition<br />\\n                    \\n                        <a href=\"http://bookshop.blackwell.co.uk/jsp/display_product_info.jsp;jsessionid=48A2DFE4B5F36359FD09EE406794B869.bobcatt1?isbn=9780002200684\">View previous edition</a><br/>\\n                        \\n                    </p>\\n\\n                    \\n                        <br />\\n                        &nbsp;<a href=\"/jsp/book_review.jsp;jsessionid=48A2DFE4B5F36359FD09EE406794B869.bobcatt1?isbn=9780002200691\">Write a review</a>\\n                        <br />\\n                    \\n\\n                    \\n\\n                    \\n\\n                    \\n\\n                    \\n\\n                    \\n                    \\n\\n                    <p id=\"product-descr\">\\n                        \\n                            A comprehensive guide to the birds of Great Britain, this book combines identification information with illustrations showing habitats, behaviour and flight patterns. Resident and regular visitors are featured in a separate section. It includes a full species checklist and a list of organizations.\\n                        \\n                    </p>\\n\\n                    \\n                    \\n                    <!-- end product meta layout -->\\n                </div> <!-- end product biblio layout  -->\\n            \\n            \\n            \\n            \\n\\t\\t<div class=\"tab-panel-container\" style=\"width: 433px\">\\n\\t\\t\\t<table width=\"100%\" cellpadding=\"0\" cellspacing=\"0\" class=\"tab-panel-tabs\">\\n\\t\\t\\t\\t<tr>\\n\\t\\t\\t\\t\\t<td class=\"tab-start\">&nbsp;</td>\\n\\t\\t\\t\\t\\t<td class=\"tab-first active\" id=\"li_biblio2_0\" style=\"width: 153px\"><a href=\"http://bookshop.blackwell.co.uk/jsp/display_product_info.jsp;jsessionid=48A2DFE4B5F36359FD09EE406794B869.bobcatt1?isbn=9780002200691&amp;tabIdx=0&amp;tabSet=biblio2\">\\n\\t\\t\\t\\t\\t\\tSynopsis\\n\\t\\t\\t\\t\\t</a></td>\\n\\t\\t\\t\\t\\t<td class=\"tab\" id=\"li_biblio2_1\" style=\"width: 132px\"><a href=\"http://bookshop.blackwell.co.uk/jsp/display_product_info.jsp;jsessionid=48A2DFE4B5F36359FD09EE406794B869.bobcatt1?isbn=9780002200691&amp;tabIdx=1&amp;tabSet=biblio2\">\\n\\t\\t\\t\\t\\t\\tDetails\\n\\t\\t\\t\\t\\t</a></td>\\n\\t\\t\\t\\t\\t<td class=\"tab-last\" id=\"li_biblio2_2\" style=\"width: 132px\"><a href=\"http://bookshop.blackwell.co.uk/jsp/display_product_info.jsp;jsessionid=48A2DFE4B5F36359FD09EE406794B869.bobcatt1?isbn=9780002200691&amp;tabIdx=2&amp;tabSet=biblio2\">\\n\\t\\t\\t\\t\\t\\tReviews\\n\\t\\t\\t\\t\\t</a></td>\\n\\t\\t\\t\\t\\t<td class=\"tab-end\">&nbsp;</td>\\n\\t\\t\\t\\t</tr>\\n\\t\\t\\t</table>\\n\\t\\t<div class=\"tab-panel-content-holder\" style=\"width: 431px\">\\n\\t\\t<div class=\"bg\" style=\"display:block;\" id=\"biblio2_0\">Combines illustrated identification pages and information pages that describe and illustrate habitats, breeding and feeding behavior and flight patterns. Maps show breeding and wintering locations. Voice descriptions of songs and calls.\\n                </div>\\n\\t\\t<div class=\"bg\" style=\"display:none;\" id=\"biblio2_1\"><a name=\"bookdetails\"></a><table width=\"100%\" class=\"normal\" border=\"0\" cellspacing=\"0\" cellpadding=\"0\" summary=\"\"><tr><td colspan=\"2\" valign=\"top\"><table class=\"normal\" width=\"100%\" border=\"0\" cellpadding=\"0\" cellspacing=\"1\" summary=\"\"><tr><td valign=\"top\"><table class=\"normal\" width=\"100%\"  border=\"0\" cellpadding=\"2\" cellspacing=\"0\" summary=\"\"><tr valign=top><td width=\"25%\"><b>ISBN</b></td><td width=\"25%\">0002200694</td><td>&nbsp;</td><td width=\"25%\"><b>Co_publisher</b></td><td width=\"25%\">RSPB, Channel 4</td></tr><tr valign=top><td width=\"25%\"><b>ISBN13</b></td><td width=\"25%\">9780002200691<br />(<a href=\"javascript:openHelpWindow(\\'http://bookshop.blackwell.co.uk/jsp/editorial/help/isbn13.jsp;jsessionid=48A2DFE4B5F36359FD09EE406794B869.bobcatt1\\');\">What&#39;s this?</a>)</td><td>&nbsp;</td><td width=\"25%\"><b>Weight (grammes)</b></td><td width=\"25%\">533</td></tr><tr valign=top><td width=\"25%\"><b>Publisher</b></td><td width=\"25%\">HarperCollins Publishers</td><td>&nbsp;</td><td width=\"25%\"><b>Published in</b></td><td width=\"25%\">London</td></tr><tr valign=top><td width=\"25%\"><b>Imprint</b></td><td width=\"25%\">Collins</td><td>&nbsp;</td><td width=\"25%\"><b>Series title</b></td><td width=\"25%\">Collins</td></tr><tr valign=top><td width=\"25%\"><b>Format</b></td><td width=\"25%\">Paperback</td><td>&nbsp;</td><td width=\"25%\"><b>Previous ISBN</b></td><td width=\"25%\">9780002200684</td></tr><tr valign=top><td width=\"25%\"><b>Publication date</b></td><td width=\"25%\">03 Feb 1997</td><td>&nbsp;</td><td width=\"25%\"><b>Height (mm)</b></td><td width=\"25%\">227</td></tr><tr valign=top><td width=\"25%\"><b>DEWEY</b></td><td width=\"25%\">598.0941</td><td>&nbsp;</td><td width=\"25%\"><b>Width (mm)</b></td><td width=\"25%\">140</td></tr><tr valign=top><td width=\"25%\"><b>DEWEY edition</b></td><td width=\"25%\">DC21</td><td>&nbsp;</td><td width=\"25%\"><b>Spine width (mm)</b></td><td width=\"25%\">18</td></tr><tr valign=top><td width=\"25%\"><b>Pages</b></td><td width=\"25%\">256</td><td>&nbsp;</td><td width=\"25%\"><b>Academic level</b></td><td width=\"25%\">General</td></tr><tr valign=top><td width=\"25%\"><b>Volumes</b></td><td width=\"25%\">1</td><td>&nbsp;</td></tr></table></td></tr></table></td></tr><tr><td colspan=\"2\" valign=\"top\"></td></tr></table>\\n                </div>\\n\\t\\t<div class=\"bg\" style=\"display:none;\" id=\"biblio2_2\"><a href=\"/jsp/book_review.jsp;jsessionid=48A2DFE4B5F36359FD09EE406794B869.bobcatt1?isbn=9780002200691\" style=\"text-decoration:none;\"><img src=\"/assets/images2011/reviewplus.gif\" width=\"40\" height=\"24\" border=\"0\" /></a>&nbsp;Be the first to write a <a href=\"/jsp/book_review.jsp;jsessionid=48A2DFE4B5F36359FD09EE406794B869.bobcatt1?isbn=9780002200691\">customer review</a><br />\\n                </div>\\n\\t\\t</div> <!-- end tab-panel-content-holder -->\\n            <div class=\"tab-panel-footer\" style=\"width: 433px\">\\n                <span class=\"right-corner\">&nbsp;</span><span class=\"left-corner\">&nbsp;</span><span class=\"middle\" style=\"width: 417px\">&nbsp;</span>\\n            </div>\\n\\t\\t</div> <!-- end tab-panel-container -->\\n            \\n            </td> <!-- end middle column  -->\\n            <!-- empty column separator  -->\\n            <td width=\"10\">&nbsp;</td>\\n            <!-- start right column - tabbed panels  -->\\n            <td width=\"291\" valign=\"top\">\\n\\n                <div class=\"box right\" style=\"width:258px;\">\\n                &nbsp;&nbsp;&nbsp;&nbsp;<a href=\"/jsp/print_product_info.jsp;jsessionid=48A2DFE4B5F36359FD09EE406794B869.bobcatt1?isbn=9780002200691\">Printable</a>\\n                </div>\\n\\n                <div class=\"sidebar\">\\n                    <div class=\"sidebar-header\"><h3>Buying options <img src=\"/assets/images2011/drop-arrow.png\" width=\"11\" height=\"6\" alt=\"\" title=\"\" /></h3>\\n                    </div> <!-- end sidebar-header -->\\n                    <div class=\"sidebar-content\">\\n                        <div id=\"buy-options\"> \\n                            \\n                            <div class=\"price-info\">\\n                                <span class=\"price\">&pound;12.99</span>\\n                                \\n\\n                                \\n                            </div><!-- end price-info -->\\n\\n\\n                            \\n                                <div class=\"buy-option\"  style=\"overflow: hidden;\">\\n                                    <div style=\"float: right; width: auto;\"><a class=\"button inter\" target=_blank href=\"http://click.linksynergy.com/fs-bin/click?id=EW4YsYIvmNE&amp;offerid=39828.10000032&amp;type=2&amp;subid=0&amp;tmpid=939&amp;RD_PARM1=http%253A%252F%252Fwww.alibris.com/search/search.cfm%253FS%253DR%2526qisbn%253D9780002200691\">Out of print</a></div>\\n                                    <strong>Buy Online:</strong>\\n                                </div>\\n                            \\n                            \\n\\n                            <div class=\"buy-option\">\\n                                <strong>Online availability:</strong><br />\\n                                \\n\\n                    \\n                    <a href=\"http://bookshop.blackwell.co.uk/jsp/availship.jsp;jsessionid=48A2DFE4B5F36359FD09EE406794B869.bobcatt1?fromcountry=GB&amp;pubstatus=Out+of+print&amp;isbn=9780002200691\">Out of print</a>\\n                    \\n\\n\\n                                \\n                            </div>\\n\\n\\n                            \\n                            \\n                                <div class=\"buy-option\">\\n                                    <p><strong>Buy second hand:</strong><br />\\n                                    <a href=\"http://bookshop.blackwell.co.uk/jsp/new_and_used.jsp;jsessionid=48A2DFE4B5F36359FD09EE406794B869.bobcatt1?isbn=9780002200691\">12&nbsp;second hand</a>&nbsp;available from <span style=\"font-size: 1.25em; color: #e6620b; font-weight: bold;\">&pound;0.73</span></p>\\n                                </div>\\n                            \\n\\n                            \\n                            \\n                            \\n\\n\\n\\n                            \\n                            \\n\\n                            \\n\\n\\n    \\n\\n\\n\\n\\n                                \\n\\n\\n                                \\n\\n                                \\n\\n\\n                                \\n\\n                        \\n                        \\n                        </div> <!-- end buy options -->\\n                    </div> <!-- end sidebar-content -->\\n                    <!-- start sidebar bottom -->\\n                    <div class=\"sidebar-bottom\">&nbsp;</div> <!-- end sidebar-bottom -->\\n                </div> <!-- end sidebar -->\\n            </td> <!-- end right column - tabbed panels  -->\\n        </tr>\\n    </table> <!-- end layout table for middle and right column -->\\n\\n\\n\\n    \\n    \\n        <script>\\n        // Construct URL along with required ISBNs\\n        var isbns = [\"ISBN9780002200691\"];\\n        var api_url =\"http://books.google.com/books?jscmd=viewapi&bibkeys=\" + isbns.join(\",\");\\n\\n        // Talk to the server synchronously and get _GBSBookInfo object\\n        document.write(unescape(\"%3Cscript src=\" + api_url + \" type=\\'text/javascript\\'%3E%3C/script%3E\"));\\n        </script>\\n\\n        <script>\\n        // Process response from Google booksearch\\n\\n        for (i in isbns) {\\n\\n            // if (typeof _GBSBookInfo != \"undefined\") {\\n\\n                var element2 = document.getElementById(\"preview2\");\\n                var bookInfo = _GBSBookInfo[isbns[i]];\\n                // Check whether  server returned any data\\n                if (bookInfo) {\\n                    if (bookInfo.preview == \"full\" ||\\n                        bookInfo.preview == \"partial\") {\\n                        element2.style.visibility = \"visible\";\\n                        element2.style.display = \"block\";\\n                    }\\n                }\\n            // }\\n        }\\n        </script>\\n    \\n    \\n\\n\\n\\n\\n\\n\\n\\n\\n\\n\\n\\n        </td> <!-- end middle column -->\\n        <!-- right edge padding -->\\n        <td width=\"5\">&nbsp;</td>\\n    </tr>\\n</table>\\n\\n<div id=\"footer\">\\n    <div id=\"footer-content-container\">\\n        <table id=\"footer-content\" class=\"header-layout\" border=\"0\" cellspacing=\"0\" cellpadding=\"0\">\\n            <tr>\\n                <td valign=\"top\" align=\"left\">\\n                    <ul class=\"horizontal-list\">\\n                        <li><b>Customer Services</b></li>\\n                        <li><a href=\"/jsp/contact.jsp\">Contact Us</a></li>\\n                        <li><a href=\"/jsp/shipping.jsp\">Delivery Information</a></li>\\n                        <li><a href=\"/jsp/editorial/help/help.jsp\">Help</a></li>\\n                        <li><a href=\"/jsp/editorial/help/eBooks.jsp\">eBooks Help</a></li>\\n                        <li><a href=\"/jsp/editorial/services/site_map.jsp\">Sitemap</a></li>\\n                    </ul><br />\\n                    <ul class=\"horizontal-list\">\\n                        <li><b>About Us</b></li>\\n                        <li><a href=\"http://www.blackwell.com\" target=\"_blank\">Librarians</a></li>\\n                        <li><a href=\"/jsp/editorial/help/aw.jsp\">Affiliates</a></li>\\n                        <li><a href=\"/jsp/editorial/services/job_index.jsp\">Jobs at Blackwell\\'s</a></li>\\n                        <li><a href=\"/jsp/editorial/help/terms.jsp\">Terms and Conditions</a></li>\\n                        <li><a href=\"/jsp/editorial/help/security.jsp\">Security and Privacy</a></li>\\n                        <li><a href=\"/jsp/giftcard.jsp\">Gift Cards</a></li>\\n                    </ul>\\n\\n                </td>\\n                <td valign=\"bottom\" align=\"right\">\\n                    <img src=\"/assets/images2011/footer_logo.png\" alt=\"\" /><br />\\n                    <!-- social  -->\\n                    <div style=\"float: right; width: auto; margin-left: 4px;\">\\n                        <span style=\"text-align: left;\">Follow Us</span>\\n                        <a target=\"_blank\" href=\"http://www.youtube.com/blackwellonline\"><img src=\"/assets/images2011/youtube.png\" alt=\"\" /></a>\\n                        <a href=\"mailto:blackwell.online@blackwell.co.uk\"><img src=\"/assets/images2011/mail.png\" alt=\"\" /></a>\\n\\n                        <a target=\"_blank\" href=\"http://www.facebook.com/blackwelloxford\"><img src=\"/assets/images2011/facebook.png\" alt=\"\" /></a>\\n                        <a target=\"_blank\" href=\"http://www.twitter.com/blackwellbooks\"><img src=\"/assets/images2011/twitter.png\" alt=\"\" /></a>\\n                    </div>\\n                    <!-- verisign  -->\\n                    <img src=\"/assets/images2011/versign_trusted.png\" alt=\"\" />\\n                </td>\\n            </tr>\\n        </table>\\n    </div> <!-- end footer -->\\n\\n    <div id=\"footer-banner-container\">\\n        <div id=\"footer-banner\" class=\"header-layout\">\\n            <table border=\"0\" cellspacing=\"0\" cellpadding=\"0\" id=\"footer-banner-content\"  class=\"header-layout\">\\n                <tr>\\n                    <td align=\"left\" valign=\"top\">Copyright 2011 &copy; Blackwell\\'s. All Rights Reserved.</td>\\n                    <td></td>\\n                </tr>\\n            </table>\\n\\n        </div> <!-- end footer-banner -->\\n    </div> <!-- end footer-banner-container -->\\n</div> <!-- end footer -->\\n\\n<!-- Anshul -->\\n\\n\\n<!-- end of mobile footer - Anshul Tiwari -->\\n\\n\\n    <script src=\"https://ssl.google-analytics.com/urchin.js\" type=\"text/javascript\"></script>\\n\\n    <script type=\"text/javascript\">\\n    _uacct = \"UA-391783-1\";\\n    _utimeout=\"7200\";\\n    urchinTracker();\\n    </script>\\n    \\n\\n\\n\\n        <!-- BEGIN: Marin Software Tracking Script -->\\n        <script type=\"text/javascript\">\\n            var _mTrack = _mTrack || [];\\n            _mTrack.push([\\'trackPage\\']);\\n\\n            (function() {\\n                var mClientId = \\'42943am20497\\';\\n                var mProto = (\\'https:\\' == document.location.protocol ? \\'https://\\' : \\'http://\\');\\n                var mHost = \\'tracker.marinsm.com\\';\\n                var mt = document.createElement(\\'script\\'); mt.type = \\'text/javascript\\'; mt.async = true; mt.src = mProto + mHost + \\'/tracker/async/\\' + mClientId + \\'.js\\';\\n                var fscr = document.getElementsByTagName(\\'script\\')[0]; fscr.parentNode.insertBefore(mt, fscr);\\n            })();\\n        </script>\\n        <noscript>\\n            <img src=\"https://tracker.marinsm.com/tp?act=1&cid=42943am20497&script=no\" >\\n        </noscript>\\n        <!-- END: Copyright Marin Software -->\\n\\n\\n    \\n\\n    <script type=\"text/javascript\">\\n    function _mt_ready(){\\n       if (typeof(MyThings) != \"undefined\") {\\n           MyThings.Track({\\n               EventType: MyThings.Event.Visit,\\n                   Action: \"300\"\\n           });\\n       }\\n    }\\n    var mtHost = ((\"https:\" == document.location.protocol) ? \"https\" : \"http\") + \"://rainbow-uk.mythings.com\";\\n    var mtAdvertiserToken = \"awin-1708-100-uk\";\\n    document.write(unescape(\"%3Cscript src=\\'\" + mtHost + \"/c.aspx?atok=\"+mtAdvertiserToken+\"\\' type=\\'text/javascript\\'%3E%3C/script%3E\"));\\n    </script>\\n\\n    \\n\\n    <script type=\"text/javascript\">\\n        setTimeout(function(){var a=document.createElement(\"script\");\\n        var b=document.getElementsByTagName(\\'script\\')[0];\\n        a.src=document.location.protocol+\"//dnn506yrbagrg.cloudfront.net/pages/scripts/0012/7743.js?\"+Math.floor(new Date().getTime()/3600000);\\n        a.async=true;a.type=\"text/javascript\";b.parentNode.insertBefore(a,b)}, 1);\\n    </script>\\n\\n    \\n\\n\\n\\n\\n    </body>\\n\\n\\n\\n\\n\\n</html>\\n\\n\\n<!-- App Server titania:t1 -->\\n\\n\\n\\n']\n",
            "=======\n",
            "(\"Wings - Blackwell's Bookshop Online\", \"Wings - Blackwell's Bookshop Online Shopping Basket > > > > Guide to British Birds ISBN: 9780002200691 Format: Paperback Publisher: Edition: Television tie-in edition A comprehensive guide to the birds of Great Britain, this book combines identification information with illustrations showing habitats, behaviour and flight patterns. Resident and regular visitors are featured in a separate section. It includes a full species checklist and a list of organizations. Combines illustrated identification pages and information pages that describe and illustrate habitats, breeding and feeding behavior and flight patterns. Maps show breeding and wintering locations. Voice descriptions of songs and calls. ISBN 0002200694 Co_publisher RSPB, Channel 4 ISBN13 9780002200691 ( ) Weight (grammes) 533 Publisher HarperCollins Publishers Published in London Imprint Collins Series title Collins Format Paperback Previous ISBN 9780002200684 Publication date 03 Feb 1997 Height (mm) 227 DEWEY 598.0941 Width (mm) 140 DEWEY edition DC21 Spine width (mm) 18 Pages 256 Academic level General Volumes 1 Be the first to write a Buying options £12.99 Buy Online: Online availability: Buy second hand: available from £0.73 Customer Services About Us Follow Us Copyright 2011 © Blackwell's. All Rights Reserved.\")\n"
          ]
        }
      ],
      "source": [
        "for i,row in enumerate(data_file):\n",
        "    print(row)\n",
        "    print(\"=======\")\n",
        "    print(remove_tags(row[0]))\n",
        "    if (i>=0): break"
      ]
    },
    {
      "cell_type": "code",
      "execution_count": null,
      "metadata": {
        "id": "Hklvhb6RDMVL"
      },
      "outputs": [],
      "source": []
    },
    {
      "cell_type": "code",
      "execution_count": null,
      "metadata": {
        "id": "H59-VAGmDMVM"
      },
      "outputs": [],
      "source": []
    },
    {
      "cell_type": "markdown",
      "metadata": {
        "id": "_h_c-1kBDMVN"
      },
      "source": [
        "#### Vizualization"
      ]
    },
    {
      "cell_type": "markdown",
      "metadata": {
        "id": "HTu83iAWDMVN"
      },
      "source": [
        "As a visualisation, it is necessary to construct a frequency distribution of words (the 100 most common words), sorted by frequency. \n",
        "\n",
        "For visualization purposes we advice you to use plotly, but you are free to choose other libraries"
      ]
    },
    {
      "cell_type": "code",
      "execution_count": null,
      "metadata": {
        "id": "bHX6IXcrDMVO"
      },
      "outputs": [],
      "source": []
    },
    {
      "cell_type": "markdown",
      "metadata": {
        "id": "5ZxcPfLTDMVO"
      },
      "source": [
        "#### Provide examples of processed text (some parts)\n",
        "\n",
        "Is everything all right with the result of cleaning these examples? What kind of information was lost?"
      ]
    },
    {
      "cell_type": "code",
      "execution_count": null,
      "metadata": {
        "id": "2BSMfa9lDMVP"
      },
      "outputs": [],
      "source": []
    },
    {
      "cell_type": "code",
      "execution_count": null,
      "metadata": {
        "id": "0xn6XK7UDMVP"
      },
      "outputs": [],
      "source": []
    },
    {
      "cell_type": "markdown",
      "metadata": {
        "id": "IlSeYg4sDMVQ"
      },
      "source": [
        "# [10 points] Part 2. Duplicates detection. LSH"
      ]
    },
    {
      "cell_type": "markdown",
      "metadata": {
        "id": "ZuMBHSiDDMVR"
      },
      "source": [
        "#### Libraries you can use\n",
        "\n",
        "1. LSH - https://github.com/ekzhu/datasketch\n",
        "1. LSH - https://github.com/mattilyra/LSH\n",
        "1. Any other library on your choise"
      ]
    },
    {
      "cell_type": "markdown",
      "metadata": {
        "id": "uff5aBpgDMVR"
      },
      "source": [
        "1. Detect duplicated text (duplicates do not imply a complete word-to-word match, but texts that may contain a paraphrase, rearrangement of words, sentences)\n",
        "1. Make a plot dependency of duplicates on shingle size (with fixed minhash length) \n",
        "1. Make a plot dependency of duplicates on minhash length (with fixed shingle size)"
      ]
    },
    {
      "cell_type": "code",
      "execution_count": null,
      "metadata": {
        "id": "QOFZ7AvyDMVS"
      },
      "outputs": [],
      "source": []
    },
    {
      "cell_type": "code",
      "execution_count": null,
      "metadata": {
        "id": "HPonm9U3DMVS"
      },
      "outputs": [],
      "source": []
    },
    {
      "cell_type": "markdown",
      "metadata": {
        "id": "njdTa1daDMVS"
      },
      "source": [
        "# [Optional 10 points] Part 3. Topic model"
      ]
    },
    {
      "cell_type": "markdown",
      "metadata": {
        "id": "4BwJNkn2DMVT"
      },
      "source": [
        "In this part you will learn how to do topic modeling with common tools and assess the resulting quality of the models. "
      ]
    },
    {
      "cell_type": "code",
      "execution_count": null,
      "metadata": {
        "id": "l0WcLMhHDMVT"
      },
      "outputs": [],
      "source": []
    },
    {
      "cell_type": "markdown",
      "metadata": {
        "id": "WkNFzxqPDMVU"
      },
      "source": [
        "The provided data contain chunked stories by Edgar Allan Poe (EAP), Mary Shelley (MWS), and HP Lovecraft (HPL).\n",
        "\n",
        "The dataset can be downloaded here: `https://drive.google.com/file/d/14tAjAzHr6UmFVFV7ABTyNHBh-dWHAaLH/view?usp=sharing`"
      ]
    },
    {
      "cell_type": "markdown",
      "metadata": {
        "id": "5BNIa1miDMVU"
      },
      "source": [
        "#### Preprocess dataset with the functions from the Part 1"
      ]
    },
    {
      "cell_type": "code",
      "execution_count": null,
      "metadata": {
        "id": "9B8PZNRyDMVV"
      },
      "outputs": [],
      "source": []
    },
    {
      "cell_type": "markdown",
      "metadata": {
        "id": "qKU2D29CDMVV"
      },
      "source": [
        "#### Quality estimation"
      ]
    },
    {
      "cell_type": "markdown",
      "metadata": {
        "id": "l6xfd3vpDMVW"
      },
      "source": [
        "Implement the following three quality fuctions: `coherence` (or `tf-idf coherence`), `normalized PMI`, `based on the distributed word representation`(you can use pretrained w2v vectors or some other model). You are free to use any libraries (for instance gensim) and components."
      ]
    },
    {
      "cell_type": "code",
      "execution_count": null,
      "metadata": {
        "id": "AEtv-gWcDMVW"
      },
      "outputs": [],
      "source": []
    },
    {
      "cell_type": "markdown",
      "metadata": {
        "id": "Kp1jTJmPDMVX"
      },
      "source": [
        "### Topic modeling"
      ]
    },
    {
      "cell_type": "markdown",
      "metadata": {
        "id": "lgbVtgphDMVX"
      },
      "source": [
        "Read and preprocess the dataset, divide it into train and test parts `sklearn.model_selection.train_test_split`. Test part will be used in classification part. For simplicity we do not perform cross-validation here, but you should remember about it."
      ]
    },
    {
      "cell_type": "code",
      "execution_count": null,
      "metadata": {
        "id": "_Uh0J_C8DMVY"
      },
      "outputs": [],
      "source": []
    },
    {
      "cell_type": "markdown",
      "metadata": {
        "id": "rNepVz1wDMVY"
      },
      "source": [
        "Plot the histogram of resulting tokens counts in the processed datasets."
      ]
    },
    {
      "cell_type": "code",
      "execution_count": null,
      "metadata": {
        "id": "L_7JVEfbDMVZ"
      },
      "outputs": [],
      "source": []
    },
    {
      "cell_type": "markdown",
      "metadata": {
        "id": "ulOjNL9vDMVZ"
      },
      "source": [
        "Plot the histogram of resulting tokens counts in the processed datasets."
      ]
    },
    {
      "cell_type": "code",
      "execution_count": null,
      "metadata": {
        "id": "HAse0LBvDMVa"
      },
      "outputs": [],
      "source": []
    },
    {
      "cell_type": "markdown",
      "metadata": {
        "id": "4N86AaGNDMVa"
      },
      "source": [
        "#### NMF"
      ]
    },
    {
      "cell_type": "markdown",
      "metadata": {
        "id": "kPelcAFQDMVa"
      },
      "source": [
        "Implement topic modeling with NMF (you can use `sklearn.decomposition.NMF`) and print out resulting topics. Try to change hyperparameters to better fit the dataset."
      ]
    },
    {
      "cell_type": "code",
      "execution_count": null,
      "metadata": {
        "id": "DCPzCMMMDMVa"
      },
      "outputs": [],
      "source": []
    },
    {
      "cell_type": "markdown",
      "metadata": {
        "id": "zuaKAGIWDMVb"
      },
      "source": [
        "#### LDA"
      ]
    },
    {
      "cell_type": "markdown",
      "metadata": {
        "id": "PAK_MfQxDMVb"
      },
      "source": [
        "Implement topic modeling with LDA (you can use gensim implementation) and print out resulting topics. Try to change hyperparameters to better fit the dataset."
      ]
    },
    {
      "cell_type": "code",
      "execution_count": null,
      "metadata": {
        "id": "fdzopuCJDMVb"
      },
      "outputs": [],
      "source": []
    },
    {
      "cell_type": "markdown",
      "metadata": {
        "id": "vSF6fq0NDMVc"
      },
      "source": [
        "### Additive regularization of topic models "
      ]
    },
    {
      "cell_type": "markdown",
      "metadata": {
        "id": "tVcA4itQDMVc"
      },
      "source": [
        "Implement topic modeling with ARTM. You may use bigartm library (simple installation for linux: pip install bigartm) or TopicNet framework (`https://github.com/machine-intelligence-laboratory/TopicNet`)"
      ]
    },
    {
      "cell_type": "markdown",
      "metadata": {
        "id": "03xhr0PmDMVc"
      },
      "source": [
        "Create artm topic model fit it to the data. Try to change hyperparameters (number of specific and background topics) to better fit the dataset. Play with smoothing and sparsing coefficients (use grid), try to add decorrelator. Print out resulting topics."
      ]
    },
    {
      "cell_type": "code",
      "execution_count": null,
      "metadata": {
        "id": "tgv1qIUZDMVc"
      },
      "outputs": [],
      "source": []
    },
    {
      "cell_type": "markdown",
      "metadata": {
        "id": "mteOYV8TDMVd"
      },
      "source": [
        "Write a function to convert new documents to topics probabilities vectors."
      ]
    },
    {
      "cell_type": "code",
      "execution_count": null,
      "metadata": {
        "id": "IGkD9YaxDMVd"
      },
      "outputs": [],
      "source": []
    },
    {
      "cell_type": "markdown",
      "metadata": {
        "id": "SPrNOdMLDMVd"
      },
      "source": [
        "Calculate the quality scores for each model. Make a barplot to compare the quality."
      ]
    },
    {
      "cell_type": "code",
      "execution_count": null,
      "metadata": {
        "id": "hQadAQCXDMVd"
      },
      "outputs": [],
      "source": []
    }
  ],
  "metadata": {
    "colab": {
      "name": "Copy of HW1.ipynb",
      "provenance": []
    },
    "kernelspec": {
      "display_name": "Python 3",
      "language": "python",
      "name": "python3"
    },
    "language_info": {
      "codemirror_mode": {
        "name": "ipython",
        "version": 3
      },
      "file_extension": ".py",
      "mimetype": "text/x-python",
      "name": "python",
      "nbconvert_exporter": "python",
      "pygments_lexer": "ipython3",
      "version": "3.9.7"
    }
  },
  "nbformat": 4,
  "nbformat_minor": 0
}
