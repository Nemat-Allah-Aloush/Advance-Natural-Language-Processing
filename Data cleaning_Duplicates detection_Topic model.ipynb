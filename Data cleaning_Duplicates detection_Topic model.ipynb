{
  "cells": [
    {
      "cell_type": "markdown",
      "metadata": {
        "id": "TEEKQwtYDMUz"
      },
      "source": [
        "**SOFT DEADLINE:** `20.03.2022 23:59 msk` "
      ]
    },
    {
      "cell_type": "markdown",
      "metadata": {
        "id": "g-IAo9sYDMU-"
      },
      "source": [
        "# [5 points] Part 1. Data cleaning"
      ]
    },
    {
      "cell_type": "markdown",
      "metadata": {
        "id": "-SNyjuGjDMU_"
      },
      "source": [
        "The task is to clear the text data of the crawled web-pages from different sites. \n",
        "\n",
        "It is necessary to ensure that the distribution of the 100 most frequent words includes only meaningful words in english language (not particles, conjunctions, prepositions, numbers, tags, symbols)."
      ]
    },
    {
      "cell_type": "markdown",
      "metadata": {
        "id": "TA4VkGl2DMVB"
      },
      "source": [
        "Determine the order of operations below and carry out the appropriate cleaning.\n",
        "\n",
        "1. Remove non-english words\n",
        "1. Remove html-tags (try to do it with regular expression, or play with beautifulsoap library)\n",
        "1. Apply lemmatization / stemming\n",
        "1. Remove stop-words\n",
        "1. Additional processing - At your own initiative, if this helps to obtain a better distribution"
      ]
    },
    {
      "cell_type": "markdown",
      "metadata": {
        "id": "hjLsB9pdDMVC"
      },
      "source": [
        "#### Hints"
      ]
    },
    {
      "cell_type": "markdown",
      "metadata": {
        "id": "mk6ZLncvDMVD"
      },
      "source": [
        "1. To do text processing you may use nltk and re libraries\n",
        "1. and / or any other libraries on your choise"
      ]
    },
    {
      "cell_type": "markdown",
      "metadata": {},
      "source": [
        "#### Import libraries"
      ]
    },
    {
      "cell_type": "code",
      "execution_count": 1,
      "metadata": {},
      "outputs": [],
      "source": [
        "import csv\n",
        "from bs4 import BeautifulSoup\n",
        "# BeautifulSoup: This library helps us to get the HTML structure of the page that we want to work with. We can then, use its functions to access specific elements and extract relevant information."
      ]
    },
    {
      "cell_type": "markdown",
      "metadata": {
        "id": "KCbTa1OiDMVE"
      },
      "source": [
        "#### Data reading"
      ]
    },
    {
      "cell_type": "markdown",
      "metadata": {
        "id": "cXbG649IDMVG"
      },
      "source": [
        "The dataset for this part can be downloaded here: `https://drive.google.com/file/d/1wLwo83J-ikCCZY2RAoYx8NghaSaQ-lBA/view?usp=sharing`"
      ]
    },
    {
      "cell_type": "code",
      "execution_count": 56,
      "metadata": {
        "id": "HN8UxSDkDMVH"
      },
      "outputs": [],
      "source": [
        "# Open and Read the content of the CSV file \n",
        "data_file =open(\"web_sites_data.csv\",'r')\n",
        "data_file = csv.reader(data_file)"
      ]
    },
    {
      "cell_type": "code",
      "execution_count": 65,
      "metadata": {},
      "outputs": [],
      "source": [
        "def remove_tags(html):\n",
        "  \n",
        "    # parse html content\n",
        "    soup = BeautifulSoup(html, \"html.parser\")\n",
        "    title=soup.title.get_text()\n",
        "    print(title)\n",
        "    for data in soup(['style', 'script']):\n",
        "        # Remove tags\n",
        "        data.decompose()\n",
        "  \n",
        "    # return data by retrieving the tag content\n",
        "    return ' '.join(soup.stripped_strings)\n",
        "  \n",
        "  \n",
        "# Print the extracted data\n"
      ]
    },
    {
      "cell_type": "code",
      "execution_count": 66,
      "metadata": {},
      "outputs": [
        {
          "name": "stdout",
          "output_type": "stream",
          "text": [
            "['<html>\\n<head profile=\"http://www.w3.org/2005/10/profile\">\\n<LINK REL=\"SHORTCUT ICON\" href=\"http://i.bookmooch.com/favicon.ico\"> \\n<link rel=\"icon\" type=\"image/png\" href=\"http://i.bookmooch.com/favicon.png\">\\n<title>Robert Ludlum : Apocalypse Watch</title>\\n<meta http-equiv=\"Content-Type\" content=\"text/html\">\\n\\t\\n</head>\\n<body bgcolor=\"#FFFFFF\" leftmargin=\"0\" topmargin=\"0\" marginwidth=\"0\" marginheight=\"0\" text=\"#000000\" link=\"#0000FF\" vlink=\"#0000FF\" alink=\"#FF0000\" >\\n<basefont face=\"arial, sans-serif\"><font face=\"arial, sans-serif\">\\n<table width=\"100%\" height=\"70\" border=\"0\" cellpadding=\"0\" cellspacing=\"0\">\\n\\t<tr><form action=\"/search\" method=\"get\">\\n\\t\\t<td width=\"283\" colspan=\"2\" rowspan=\"2\" bgcolor=\"#689A9B\">\\n\\t\\t\\t<a href=\"/\">\\n\\t\\t\\t\\t<img src=\"http://i.bookmooch.com/images/bookmooch_logo.gif\" width=\"283\" height=\"66\" border=\"0\" alt=\"BookMooch logo\"></a></td>\\n\\t\\t<td width=\"675\" height=\"38\" colspan=\"9\" align=\"right\" bgcolor=\"#689A9B\" xcolor=\"#689A9B\">\\n\\t\\t\\n<table border=0 cellpadding=\"0\" cellspacing=\"0\"><tr>\\n\\t\\t\\t\\t<td width=270 height=18 valign=\"middle\" align=\"right\">\\n\\t\\t\\t\\t\\t<INPUT TYPE=\"text\" NAME=\"w\" VALUE=\"\" SIZE=\"20\" MAXLENGTH=\"100\">&nbsp;</td>\\n\\t\\t\\t\\t<td width=67 height=18 valign=\"middle\" align=\"right\"><input type=\"image\" BORDER=\"0\" title=\"search\" alt=\"search\" src=\"http://i.bookmooch.com/images/search_button.gif\" width=\"67\" height=\"18\" name=\"search\"></td>\\n\\t\\t\\t\\t<td height=38 width=37><img src=\"http://i.bookmooch.com/images/spacer.gif\" width=\"10\" height=\"1\" alt=\"\"></td></tr>\\n\\t\\t\\t</table>\\n\\t\\t\\n\\t\\t\\t</td>\\n\\t\\t<td bgcolor=\"#689A9B\" width=940><img src=\"http://i.bookmooch.com/images/spacer.gif\" width=\"1\" height=\"1\" alt=\"\"></td>\\n\\t</tr></form>\\n\\t<tr>\\n\\t\\t<td width=\"193\" height=\"28\" bgcolor=\"#689A9B\"><img src=\"http://i.bookmooch.com/images/spacer.gif\" width=\"193\" height=\"28\" alt=\"\"></td>\\n\\t\\t<td bgcolor=\"#FFFF99\"><a href=\"/\"><img src=\"http://i.bookmooch.com/images/home.gif\" width=\"85\" height=\"28\" border=\"0\" alt=\"home\"></a></td>\\n\\t\\t<td bgcolor=\"#98D5DF\"><a href=\"/browse\"><img src=\"http://i.bookmooch.com/images/browse_selected.gif\" width=\"86\" height=\"28\" border=\"0\" alt=\"browse\"></a></td>\\n\\t\\t<td colspan=\"2\" bgcolor=\"#97D5DF\"><a href=\"/about/\"><img src=\"http://i.bookmooch.com/images/about.gif\" width=\"85\" height=\"28\" border=\"0\" alt=\"about\"></a></td>\\n\\t\\t<td bgcolor=\"#8DD1D8\"><a href=\"/join\"><img src=\"http://i.bookmooch.com/images/join.gif\" width=\"86\" height=\"28\" border=\"0\" alt=\"join\"></a></td>\\n\\t\\t<td bgcolor=\"#92D3DD\"><a href=\"/login\"><img src=\"http://i.bookmooch.com/images/login.gif\" width=\"84\" height=\"28\" border=\"0\" alt=\"login\"></a></td>\\n\\t\\t<td width=\"38\" height=\"28\" colspan=\"2\" bgcolor=\"#689A9B\"><img src=\"http://i.bookmooch.com/images/spacer.gif\" width=\"38\" height=\"28\" alt=\"\"></td><td bgcolor=\"#689A9B\" width=\"100%\"><img src=\"http://i.bookmooch.com/images/spacer.gif\" width=\"1\" height=\"1\" alt=\"\"></td>\\n\\t</tr>\\n\\t\\n\\t\\n\\t<tr>\\n\\t\\t<td width=\"940\" height=\"4\" colspan=\"11\" bgcolor=\"#FFFF99\">\\n\\t\\t\\t<img src=\"http://i.bookmooch.com/images/spacer.gif\" width=\"940\" height=\"4\" alt=\"\"></td><td bgcolor=\"#FFFF99\" width=100%><img src=\"http://i.bookmooch.com/images/spacer.gif\" width=\"1\" height=\"1\" alt=\"\"></td>\\n\\t</tr>\\n</table>\\n<table width=\"100%\" border=\"0\" cellpadding=\"0\" cellspacing=\"0\"><tr>\\n<td><img src=\"http://i.bookmooch.com/images/spacer.gif\" width=\"1\" height=\"12\" alt=\"\"></td><td></td><td></td></tr><td width=12><img src=\"http://i.bookmooch.com/images/spacer.gif\" width=\"12\" height=\"1\" alt=\"\"></td><td>\\n\\n<Table width=891 cellspacing=0 cellpadding=0 border=0><tr><Td align=\"left\"><font face=\"Verdana, Arial, utopia, sans-serif\" size=4 color=\"#1F4A58\">Robert Ludlum : Apocalypse Watch</font></td><td align=\"right\"><table id=\"button\" height=\"18\" border=\"0\" cellpadding=\"0\" cellspacing=\"0\">\\n\\t<tr>\\n\\t\\t<td bgcolor=\"#6EB0B1\">\\n\\t\\t\\t<a href=\"http://wiki.bookmooch.com/index.php?title=Book+detail\"  target=\"help\"  title=\"help\"><img border=0 bgcolor=\"#6EB0B1\" src=\"http://i.bookmooch.com/images/button_template_left.gif\" width=\"5\" height=\"18\" alt=\"\"></a></td>\\n\\t\\t<td valign=\"middle\" height=\"18\" bgcolor=\"#6EB0B1\"><a  target=\"help\"  STYLE=\"text-decoration:none\" href=\"http://wiki.bookmooch.com/index.php?title=Book+detail\" title=\"help\"><font face=\"Verdana, Arial, utopia, sans-serif\" size=2 color=\"#FFFFFF\"><nobr>?</nobr></font></a></td>\\n\\t\\t<td bgcolor=\"#6EB0B1\">\\n\\t\\t\\t<a  target=\"help\"  href=\"http://wiki.bookmooch.com/index.php?title=Book+detail\" title=\"help\"><img border=0 bgcolor=\"#6EB0B1\" src=\"http://i.bookmooch.com/images/button_template_right.gif\" width=\"6\" height=\"18\" alt=\"\"></a></td>\\n\\t</tr>\\n</table></td></tr></table><img src=\"http://i.bookmooch.com/images/spacer.gif\" width=\"5\" height=\"5\" alt=\"\"><br><img src=\"http://i.bookmooch.com/images/greydot.gif\" width=\"891\" height=\"1\" alt=\"\"><br><img src=\"http://i.bookmooch.com/images/spacer.gif\" width=\"1\" height=\"12\" alt=\"\"><br>\\n\\n\\t\\t<table border=0 cellpadding=0 width=1221 cellspacing=0><tr><td valign=\"top\">\\n        <table border=0 cellpadding=1 width=891 cellspacing=0><tr>\\n        \\n\\t\\t<td valign=\"top\" align=\"left\">\\n        <table border=0 width=100% cellpadding=1 cellspacing=0>\\n        \\n        <tr>\\n            <td valign=\"top\" align=\"right\" bgcolor=\"FFFFFF\">Author:</td>\\n            <td></td>\\n            <td valign=\"top\" bgcolor=\"FFFFFF\"><a title=\"Search for this author\" for href=\"/s/robert+ludlum\">Robert Ludlum</a>\\n\\t\\t\\t</td>\\n        </tr>\\n        \\n        <tr>\\n            <td valign=\"top\" width=10% align=\"right\" bgcolor=\"FFFFFF\">Title:</td>\\n            <td><img src=\"http://i.bookmooch.com/images/spacer.gif\" width=\"12\" height=\"1\" alt=\"\"></td>\\n            <td valign=\"top\" width=90% bgcolor=\"FFFFFF\"><a title=\"Search for this title\" href=\"/s/apocalypse+watch\">Apocalypse Watch</a></td>\\n        </tr>\\n        <tr>\\n            <td valign=\"top\" align=\"right\" bgcolor=\"FFFFFF\">Moochable&nbsp;copies:</td>\\n            <td></td>\\n            <td valign=\"top\" bgcolor=\"FFFFFF\">No copies available</td>\\n        </tr>\\n        \\n\\t\\t\\n\\t\\t\\n                    <tr>\\n                        <td valign=\"top\" align=\"right\" bgcolor=\"FFFFFF\">Amazon&nbsp;suggests:</td>\\n                        <td></td><form action=\"/recommended_get\" method=\"get\" name=\"form31\"><input type=\"hidden\" name=\"go\" value=\"0001049852\">\\n                        <td valign=\"top\" bgcolor=\"FFFFFF\"><table cellspacing=0 cellpadding=0 border=0><tr><td align=\"left\" valign=\"top\"><select size=1 name=\"asin\"><option value=\"0394587871\">The Road to Gandolfo</option><option value=\"0394583825\">The Osterman Weekend</option></select></td><td><img src=\"http://i.bookmooch.com/images/spacer.gif\" width=\"5\" height=\"1\" alt=\"\"></td><td align=\"left\" valign=\"top\"><table id=\"button\" height=\"18\" border=\"0\" cellpadding=\"0\" cellspacing=\"0\">\\n\\t<tr>\\n\\t\\t<td bgcolor=\"#6EB0B1\">\\n\\t\\t\\t<a href=\"javascript:document.form31.submit();\"  title=\"\"><img border=0 bgcolor=\"#6EB0B1\" src=\"http://i.bookmooch.com/images/button_template_left.gif\" width=\"5\" height=\"18\" alt=\"\"></a></td>\\n\\t\\t<td valign=\"middle\" height=\"18\" bgcolor=\"#6EB0B1\"><a  STYLE=\"text-decoration:none\" href=\"javascript:document.form31.submit();\" title=\"\"><font face=\"Verdana, Arial, utopia, sans-serif\" size=1 color=\"#FFFFFF\"><nobr>></nobr></font></a></td>\\n\\t\\t<td bgcolor=\"#6EB0B1\">\\n\\t\\t\\t<a  href=\"javascript:document.form31.submit();\" title=\"\"><img border=0 bgcolor=\"#6EB0B1\" src=\"http://i.bookmooch.com/images/button_template_right.gif\" width=\"6\" height=\"18\" alt=\"\"></a></td>\\n\\t</tr>\\n</table></td></tr></table></td></form>\\n                    </tr>\\t\\n\\t\\t\\n        <tr>\\n            <td valign=\"top\" align=\"right\" bgcolor=\"FFFFFF\">Topics:</td>\\n            <td></td><form action=\"/topic_go\" method=\"get\" name=\"form\">\\n            <td valign=\"top\" bgcolor=\"FFFFFF\">\\n\\t\\t\\t<table cellspacing=0 cellpadding=0 border=0><tr><td align=\"left\" valign=\"top\"><select size=1 name=\"name\"><option value=\"Books & Reading\">Books & Reading</option><option value=\"British\">British</option><option value=\"Classics\">Classics</option><option value=\"Comic\">Comic</option><option value=\"Drama\">Drama</option><option value=\"Erotica\">Erotica</option><option value=\"Essays\">Essays</option><option value=\"Foreign Language Fiction\">Foreign Language Fiction</option><option value=\"Genre Fiction\">Genre Fiction</option><option value=\"History & Criticism\">History & Criticism</option><option value=\"Letters & Correspondence\">Letters & Correspondence</option><option value=\"Literary\">Literary</option><option value=\"Literature & Fiction\">Literature & Fiction</option><option value=\"Mystery, Thriller & Suspense\">Mystery, Thriller & Suspense</option><option value=\"Poetry\">Poetry</option><option value=\"Short Stories\">Short Stories</option><option value=\"Spy Stories & Tales of Intrigue\">Spy Stories & Tales of Intrigue</option><option value=\"Thrillers\">Thrillers</option><option value=\"Women\\'s Fiction\">Women\\'s Fiction</option><option value=\"World Literature\">World Literature</option></select></td><td><img src=\"http://i.bookmooch.com/images/spacer.gif\" width=\"5\" height=\"1\" alt=\"\"></td><td align=\"left\" valign=\"top\"><table id=\"button\" height=\"18\" border=\"0\" cellpadding=\"0\" cellspacing=\"0\">\\n\\t<tr>\\n\\t\\t<td bgcolor=\"#6EB0B1\">\\n\\t\\t\\t<a href=\"javascript:document.form.submit();\"  title=\"\"><img border=0 bgcolor=\"#6EB0B1\" src=\"http://i.bookmooch.com/images/button_template_left.gif\" width=\"5\" height=\"18\" alt=\"\"></a></td>\\n\\t\\t<td valign=\"middle\" height=\"18\" bgcolor=\"#6EB0B1\"><a  STYLE=\"text-decoration:none\" href=\"javascript:document.form.submit();\" title=\"\"><font face=\"Verdana, Arial, utopia, sans-serif\" size=1 color=\"#FFFFFF\"><nobr>></nobr></font></a></td>\\n\\t\\t<td bgcolor=\"#6EB0B1\">\\n\\t\\t\\t<a  href=\"javascript:document.form.submit();\" title=\"\"><img border=0 bgcolor=\"#6EB0B1\" src=\"http://i.bookmooch.com/images/button_template_right.gif\" width=\"6\" height=\"18\" alt=\"\"></a></td>\\n\\t</tr>\\n</table></td></tr></table>\\n\\t\\t\\t</td></form>\\n        </tr>\\n\\t\\t\\n\\t\\t\\t<tr>\\n\\t\\t\\t\\t<td valign=\"top\" align=\"right\" bgcolor=\"FFFFFF\">Published&nbsp;in:</td>\\n\\t\\t\\t\\t<td></td>\\n\\t\\t\\t\\t<td valign=\"top\" bgcolor=\"FFFFFF\">English</td>\\n\\t\\t\\t</tr>\\t\\n\\n        <tr>\\n            <td valign=\"top\" align=\"right\" bgcolor=\"FFFFFF\">Binding:</td>\\n            <td></td>\\n            <td valign=\"top\" bgcolor=\"FFFFFF\">Audio Cassette</td>\\n        </tr>\\n        \\n\\t\\t\\n\\n        <tr>\\n            <td valign=\"top\" align=\"right\" bgcolor=\"FFFFFF\">Pages:</td>\\n            <td></td>\\n            <td bgcolor=\"FFFFFF\"></td>\\n        </tr>\\n        <tr>\\n            <td valign=\"top\" align=\"right\" bgcolor=\"FFFFFF\">Date:</td>\\n            <td></td>\\n            <td valign=\"top\" bgcolor=\"FFFFFF\"></td>\\n        </tr>\\n        <tr>\\n            <td valign=\"top\" align=\"right\" bgcolor=\"FFFFFF\">ISBN:</td>\\n            <td></td>\\n            <td valign=\"top\" bgcolor=\"FFFFFF\">0001049852</td>\\n        </tr>\\n\\n        <tr>\\n            <td valign=\"top\" align=\"right\" bgcolor=\"FFFFFF\">Publisher:</td>\\n            <td></td>\\n            <td valign=\"top\" bgcolor=\"FFFFFF\"><a title=\"Search for this publisher\" href=\"/s/\"></a></td>\\n        </tr>\\n        \\n\\t\\t\\n\\t\\t\\n\\t\\t\\n\\t\\t\\n\\t\\t\\n\\t\\t\\t\\t\\t<td valign=\"top\" align=\"right\" bgcolor=\"FFFFFF\">Amazon&nbsp;prices:</td>\\n\\t\\t\\t\\t\\t<td></td>\\n\\t\\t\\t\\t\\t<td valign=\"top\" bgcolor=\"FFFFFF\"><table bgcolor=DDDDDD cellspacing=1 cellpadding=0><tr><td><table bgcolor=FFFFFF cellspacing=3 cellpadding=0><tr><td>\\n\\t\\t\\t<table bgcolor=FFFFFF cellspacing=0 cellpadding=0>\\n\\t\\t\\t\\n\\t\\t\\t\\n\\t\\t\\t\\n\\t\\t\\t\\n\\t\\t\\t</table>\\n\\t\\t</td></tr></table></td></tr></table> <font size=1></font></td>\\n\\t\\t\\t\\t\\n\\t\\t\\n\\t\\t\\n        \\n\\t<tr>\\n\\t\\t<td valign=\"top\" align=\"right\" bgcolor=\"FFFFFF\"></td>\\n\\t\\t<td></td>\\n\\t\\t<td valign=\"top\" bgcolor=\"FFFFFF\"></td>\\n\\t</tr>\\n        \\n        \\n\\t\\t\\n\\t\\t\\n        <tr>\\n            <td valign=\"top\" align=\"right\" bgcolor=\"FFFFFF\">URL:</td>\\n            <td></td>\\n            <td valign=\"top\" bgcolor=\"FFFFFF\"><a title=\"Link to this book\" href=\"http://bookmooch.com/0001049852\">http://bookmooch.com/0001049852</a></td>\\n        </tr>\\n\\t\\t\\n        </table></td><td valign=\"top\" align=\"right\">\\n\\t\\t<a target=\"lgamazon\" onmouseover=\"this.T_WIDTH=\\'\\';return escape(\\'<img src=\\\\\\'http://images.amazon.com/images/P/0001049852.01._BO1,130,130,130_PC_SCLZZZZZZZ_.jpg\\\\\\' height=\\\\\\'\\\\\\' width=\\\\\\'\\\\\\'>\\')\" href=\"http://ecx.images-amazon.com/images/I/51X97XW8PAL.jpg\" title=\"large book cover\"><img alt=\"large book cover\" border=0 height=87 width=70 src=\"http://images.amazon.com/images/P/0001049852.01._BO1,130,130,130_PC_SCTZZZZZZZ_.jpg\" align=\"none\"></a><p>\\n\\t\\t<p>\\n\\t\\t<table id=\"button\" height=\"18\" border=\"0\" cellpadding=\"0\" cellspacing=\"0\">\\n\\t<tr>\\n\\t\\t<td bgcolor=\"#6EB0B1\">\\n\\t\\t\\t<a href=\"/m/wishlist_add?asin=0001049852&store=amazon.com\"  title=\"add this book to the list of books you want right away\"><img border=0 bgcolor=\"#6EB0B1\" src=\"http://i.bookmooch.com/images/button_template_left.gif\" width=\"5\" height=\"18\" alt=\"\"></a></td>\\n\\t\\t<td valign=\"middle\" height=\"18\" bgcolor=\"#6EB0B1\"><a  STYLE=\"text-decoration:none\" href=\"/m/wishlist_add?asin=0001049852&store=amazon.com\" title=\"add this book to the list of books you want right away\"><font face=\"Verdana, Arial, utopia, sans-serif\" size=2 color=\"#FFFFFF\"><nobr>WISHLIST&nbsp;ADD&nbsp;></nobr></font></a></td>\\n\\t\\t<td bgcolor=\"#6EB0B1\">\\n\\t\\t\\t<a  href=\"/m/wishlist_add?asin=0001049852&store=amazon.com\" title=\"add this book to the list of books you want right away\"><img border=0 bgcolor=\"#6EB0B1\" src=\"http://i.bookmooch.com/images/button_template_right.gif\" width=\"6\" height=\"18\" alt=\"\"></a></td>\\n\\t</tr>\\n</table><img src=\"http://i.bookmooch.com/images/spacer.gif\" width=\"1\" height=\"2\" alt=\"\"><br>\\n\\t\\t<table id=\"button\" height=\"18\" border=\"0\" cellpadding=\"0\" cellspacing=\"0\">\\n\\t<tr>\\n\\t\\t<td bgcolor=\"#6EB0B1\">\\n\\t\\t\\t<a href=\"/m/savelater_add?asin=0001049852&store=amazon.com\"  title=\"add this book to those you may someday want\"><img border=0 bgcolor=\"#6EB0B1\" src=\"http://i.bookmooch.com/images/button_template_left.gif\" width=\"5\" height=\"18\" alt=\"\"></a></td>\\n\\t\\t<td valign=\"middle\" height=\"18\" bgcolor=\"#6EB0B1\"><a  STYLE=\"text-decoration:none\" href=\"/m/savelater_add?asin=0001049852&store=amazon.com\" title=\"add this book to those you may someday want\"><font face=\"Verdana, Arial, utopia, sans-serif\" size=2 color=\"#FFFFFF\"><nobr>SAVE&nbsp;FOR&nbsp;LATER&nbsp;></nobr></font></a></td>\\n\\t\\t<td bgcolor=\"#6EB0B1\">\\n\\t\\t\\t<a  href=\"/m/savelater_add?asin=0001049852&store=amazon.com\" title=\"add this book to those you may someday want\"><img border=0 bgcolor=\"#6EB0B1\" src=\"http://i.bookmooch.com/images/button_template_right.gif\" width=\"6\" height=\"18\" alt=\"\"></a></td>\\n\\t</tr>\\n</table><img src=\"http://i.bookmooch.com/images/spacer.gif\" width=\"1\" height=\"2\" alt=\"\"><br>\\n\\t\\t<table id=\"button\" height=\"18\" border=\"0\" cellpadding=\"0\" cellspacing=\"0\">\\n\\t<tr>\\n\\t\\t<td bgcolor=\"#6EB0B1\">\\n\\t\\t\\t<a href=\"http://www.amazon.it/gp/product/0001049852?ie=UTF8&tag=book05e-21&linkCode=bn1\"  target=\"amazon-0001049852\"  title=\"more info about this book at Amazon (a small commission goes to BookMooch if you buy books with this link)\"><img border=0 bgcolor=\"#6EB0B1\" src=\"http://i.bookmooch.com/images/button_template_left.gif\" width=\"5\" height=\"18\" alt=\"\"></a></td>\\n\\t\\t<td valign=\"middle\" height=\"18\" bgcolor=\"#6EB0B1\"><a  target=\"amazon-0001049852\"  STYLE=\"text-decoration:none\" href=\"http://www.amazon.it/gp/product/0001049852?ie=UTF8&tag=book05e-21&linkCode=bn1\" title=\"more info about this book at Amazon (a small commission goes to BookMooch if you buy books with this link)\"><font face=\"Verdana, Arial, utopia, sans-serif\" size=2 color=\"#FFFFFF\"><nobr>AMAZON&nbsp;></nobr></font></a></td>\\n\\t\\t<td bgcolor=\"#6EB0B1\">\\n\\t\\t\\t<a  target=\"amazon-0001049852\"  href=\"http://www.amazon.it/gp/product/0001049852?ie=UTF8&tag=book05e-21&linkCode=bn1\" title=\"more info about this book at Amazon (a small commission goes to BookMooch if you buy books with this link)\"><img border=0 bgcolor=\"#6EB0B1\" src=\"http://i.bookmooch.com/images/button_template_right.gif\" width=\"6\" height=\"18\" alt=\"\"></a></td>\\n\\t</tr>\\n</table><img src=\"http://i.bookmooch.com/images/spacer.gif\" width=\"1\" height=\"2\" alt=\"\"><br>\\n\\t\\t<table id=\"button\" height=\"18\" border=\"0\" cellpadding=\"0\" cellspacing=\"0\">\\n\\t<tr>\\n\\t\\t<td bgcolor=\"#6EB0B1\">\\n\\t\\t\\t<a href=\"/book_sites?asin=0001049852\"  title=\"other web sites with information about this book\"><img border=0 bgcolor=\"#6EB0B1\" src=\"http://i.bookmooch.com/images/button_template_left.gif\" width=\"5\" height=\"18\" alt=\"\"></a></td>\\n\\t\\t<td valign=\"middle\" height=\"18\" bgcolor=\"#6EB0B1\"><a  STYLE=\"text-decoration:none\" href=\"/book_sites?asin=0001049852\" title=\"other web sites with information about this book\"><font face=\"Verdana, Arial, utopia, sans-serif\" size=2 color=\"#FFFFFF\"><nobr>OTHER&nbsp;WEB&nbsp;SITES&nbsp;></nobr></font></a></td>\\n\\t\\t<td bgcolor=\"#6EB0B1\">\\n\\t\\t\\t<a  href=\"/book_sites?asin=0001049852\" title=\"other web sites with information about this book\"><img border=0 bgcolor=\"#6EB0B1\" src=\"http://i.bookmooch.com/images/button_template_right.gif\" width=\"6\" height=\"18\" alt=\"\"></a></td>\\n\\t</tr>\\n</table><img src=\"http://i.bookmooch.com/images/spacer.gif\" width=\"1\" height=\"2\" alt=\"\"><br>\\n\\t\\t<table id=\"button\" height=\"18\" border=\"0\" cellpadding=\"0\" cellspacing=\"0\">\\n\\t<tr>\\n\\t\\t<td bgcolor=\"#6EB0B1\">\\n\\t\\t\\t<a href=\"/related_show?asin=0001049852\"  title=\"show books that are related editions to this one\"><img border=0 bgcolor=\"#6EB0B1\" src=\"http://i.bookmooch.com/images/button_template_left.gif\" width=\"5\" height=\"18\" alt=\"\"></a></td>\\n\\t\\t<td valign=\"middle\" height=\"18\" bgcolor=\"#6EB0B1\"><a  STYLE=\"text-decoration:none\" href=\"/related_show?asin=0001049852\" title=\"show books that are related editions to this one\"><font face=\"Verdana, Arial, utopia, sans-serif\" size=2 color=\"#FFFFFF\"><nobr>RELATED&nbsp;EDITIONS&nbsp;></nobr></font></a></td>\\n\\t\\t<td bgcolor=\"#6EB0B1\">\\n\\t\\t\\t<a  href=\"/related_show?asin=0001049852\" title=\"show books that are related editions to this one\"><img border=0 bgcolor=\"#6EB0B1\" src=\"http://i.bookmooch.com/images/button_template_right.gif\" width=\"6\" height=\"18\" alt=\"\"></a></td>\\n\\t</tr>\\n</table><img src=\"http://i.bookmooch.com/images/spacer.gif\" width=\"1\" height=\"2\" alt=\"\"><br>\\n\\t\\t<table id=\"button\" height=\"18\" border=\"0\" cellpadding=\"0\" cellspacing=\"0\">\\n\\t<tr>\\n\\t\\t<td bgcolor=\"#6EB0B1\">\\n\\t\\t\\t<a href=\"/recommend?asin=0001049852\"  title=\"recommend this book to someone else\"><img border=0 bgcolor=\"#6EB0B1\" src=\"http://i.bookmooch.com/images/button_template_left.gif\" width=\"5\" height=\"18\" alt=\"\"></a></td>\\n\\t\\t<td valign=\"middle\" height=\"18\" bgcolor=\"#6EB0B1\"><a  STYLE=\"text-decoration:none\" href=\"/recommend?asin=0001049852\" title=\"recommend this book to someone else\"><font face=\"Verdana, Arial, utopia, sans-serif\" size=2 color=\"#FFFFFF\"><nobr>RECOMMEND&nbsp;></nobr></font></a></td>\\n\\t\\t<td bgcolor=\"#6EB0B1\">\\n\\t\\t\\t<a  href=\"/recommend?asin=0001049852\" title=\"recommend this book to someone else\"><img border=0 bgcolor=\"#6EB0B1\" src=\"http://i.bookmooch.com/images/button_template_right.gif\" width=\"6\" height=\"18\" alt=\"\"></a></td>\\n\\t</tr>\\n</table><img src=\"http://i.bookmooch.com/images/spacer.gif\" width=\"1\" height=\"2\" alt=\"\"><br>\\n\\t\\t\\n\\t\\t\\n\\t\\n\\t</td></tr></table>\\n\\t</td><td width=10><img src=\"http://i.bookmooch.com/images/spacer.gif\" width=\"10\" height=\"1\" alt=\"\"></td><td xbgcolor=AAAAAA valign=\"top\" width=320><link rel=\"stylesheet\" type=\"text/css\" href=\"http://cache.blogads.com/582081819/feed.css\" /><script language=\"javascript\" src=\"http://cache.blogads.com/582081819/feed.js\"></script><link rel=\"stylesheet\" type=\"text/css\" href=\"http://cache.blogads.com/990819385/feed.css\" /><script language=\"javascript\" src=\"http://cache.blogads.com/990819385/feed.js\"></script><br/></td></tr></table>\\n    \\n</td><td><img src=\"http://i.bookmooch.com/images/spacer.gif\" width=\"12\" height=\"12\" alt=\"\"></td></tr><tr><td></td><td></td></tr></table>\\n<script language=\"JavaScript\" type=\"text/javascript\" src=\"http://i.bookmooch.com/js/wz_tooltip.js\"></script>\\n</body>\\n</html>']\n",
            "=======\n",
            "Robert Ludlum : Apocalypse Watch\n",
            "Robert Ludlum : Apocalypse Watch Robert Ludlum : Apocalypse Watch ? Author: Robert Ludlum Title: Apocalypse Watch Moochable copies: No copies available Amazon suggests: The Road to Gandolfo The Osterman Weekend > Topics: Books & Reading British Classics Comic Drama Erotica Essays Foreign Language Fiction Genre Fiction History & Criticism Letters & Correspondence Literary Literature & Fiction Mystery, Thriller & Suspense Poetry Short Stories Spy Stories & Tales of Intrigue Thrillers Women's Fiction World Literature > Published in: English Binding: Audio Cassette Pages: Date: ISBN: 0001049852 Publisher: Amazon prices: URL: http://bookmooch.com/0001049852 WISHLIST ADD > SAVE FOR LATER > AMAZON > OTHER WEB SITES > RELATED EDITIONS > RECOMMEND >\n"
          ]
        }
      ],
      "source": [
        "for i,row in enumerate(data_file):\n",
        "    print(row)\n",
        "    print(\"=======\")\n",
        "    print(remove_tags(row[0]))\n",
        "    if (i>=0): break"
      ]
    },
    {
      "cell_type": "code",
      "execution_count": null,
      "metadata": {},
      "outputs": [
        {
          "name": "stdout",
          "output_type": "stream",
          "text": [
            "<html>\n",
            "<head profile=\"http://www.w3.org/2005/10/profile\">\n",
            "<link href=\"http://i.bookmooch.com/favicon.ico\" rel=\"SHORTCUT ICON\"/>\n",
            "<link href=\"http://i.bookmooch.com/favicon.png\" rel=\"icon\" type=\"image/png\"/>\n",
            "<title>Paul Merton : My Struggle</title>\n",
            "<meta content=\"text/html\" http-equiv=\"Content-Type\"/>\n",
            "</head>\n",
            "<body alink=\"#FF0000\" bgcolor=\"#FFFFFF\" leftmargin=\"0\" link=\"#0000FF\" marginheight=\"0\" marginwidth=\"0\" text=\"#000000\" topmargin=\"0\" vlink=\"#0000FF\">\n",
            "<basefont face=\"arial, sans-serif\"/><font face=\"arial, sans-serif\">\n",
            "<table border=\"0\" cellpadding=\"0\" cellspacing=\"0\" height=\"70\" width=\"100%\">\n",
            "<tr><form action=\"/search\" method=\"get\">\n",
            "<td bgcolor=\"#689A9B\" colspan=\"2\" rowspan=\"2\" width=\"283\">\n",
            "<a href=\"/\">\n",
            "<img alt=\"BookMooch logo\" border=\"0\" height=\"66\" src=\"http://i.bookmooch.com/images/bookmooch_logo.gif\" width=\"283\"/></a></td>\n",
            "<td align=\"right\" bgcolor=\"#689A9B\" colspan=\"9\" height=\"38\" width=\"675\" xcolor=\"#689A9B\">\n",
            "<table border=\"0\" cellpadding=\"0\" cellspacing=\"0\"><tr>\n",
            "<td align=\"right\" height=\"18\" valign=\"middle\" width=\"270\">\n",
            "<input maxlength=\"100\" name=\"w\" size=\"20\" type=\"text\" value=\"\"/> </td>\n",
            "<td align=\"right\" height=\"18\" valign=\"middle\" width=\"67\"><input alt=\"search\" border=\"0\" height=\"18\" name=\"search\" src=\"http://i.bookmooch.com/images/search_button.gif\" title=\"search\" type=\"image\" width=\"67\"/></td>\n",
            "<td height=\"38\" width=\"37\"><img alt=\"\" height=\"1\" src=\"http://i.bookmooch.com/images/spacer.gif\" width=\"10\"/></td></tr>\n",
            "</table>\n",
            "</td>\n",
            "<td bgcolor=\"#689A9B\" width=\"940\"><img alt=\"\" height=\"1\" src=\"http://i.bookmooch.com/images/spacer.gif\" width=\"1\"/></td>\n",
            "</form></tr>\n",
            "<tr>\n",
            "<td bgcolor=\"#689A9B\" height=\"28\" width=\"193\"><img alt=\"\" height=\"28\" src=\"http://i.bookmooch.com/images/spacer.gif\" width=\"193\"/></td>\n",
            "<td bgcolor=\"#FFFF99\"><a href=\"/\"><img alt=\"home\" border=\"0\" height=\"28\" src=\"http://i.bookmooch.com/images/home.gif\" width=\"85\"/></a></td>\n",
            "<td bgcolor=\"#98D5DF\"><a href=\"/browse\"><img alt=\"browse\" border=\"0\" height=\"28\" src=\"http://i.bookmooch.com/images/browse_selected.gif\" width=\"86\"/></a></td>\n",
            "<td bgcolor=\"#97D5DF\" colspan=\"2\"><a href=\"/about/\"><img alt=\"about\" border=\"0\" height=\"28\" src=\"http://i.bookmooch.com/images/about.gif\" width=\"85\"/></a></td>\n",
            "<td bgcolor=\"#8DD1D8\"><a href=\"/join\"><img alt=\"join\" border=\"0\" height=\"28\" src=\"http://i.bookmooch.com/images/join.gif\" width=\"86\"/></a></td>\n",
            "<td bgcolor=\"#92D3DD\"><a href=\"/login\"><img alt=\"login\" border=\"0\" height=\"28\" src=\"http://i.bookmooch.com/images/login.gif\" width=\"84\"/></a></td>\n",
            "<td bgcolor=\"#689A9B\" colspan=\"2\" height=\"28\" width=\"38\"><img alt=\"\" height=\"28\" src=\"http://i.bookmooch.com/images/spacer.gif\" width=\"38\"/></td><td bgcolor=\"#689A9B\" width=\"100%\"><img alt=\"\" height=\"1\" src=\"http://i.bookmooch.com/images/spacer.gif\" width=\"1\"/></td>\n",
            "</tr>\n",
            "<tr>\n",
            "<td bgcolor=\"#FFFF99\" colspan=\"11\" height=\"4\" width=\"940\">\n",
            "<img alt=\"\" height=\"4\" src=\"http://i.bookmooch.com/images/spacer.gif\" width=\"940\"/></td><td bgcolor=\"#FFFF99\" width=\"100%\"><img alt=\"\" height=\"1\" src=\"http://i.bookmooch.com/images/spacer.gif\" width=\"1\"/></td>\n",
            "</tr>\n",
            "</table>\n",
            "<table border=\"0\" cellpadding=\"0\" cellspacing=\"0\" width=\"100%\"><tr>\n",
            "<td><img alt=\"\" height=\"12\" src=\"http://i.bookmooch.com/images/spacer.gif\" width=\"1\"/></td><td></td><td></td></tr><td width=\"12\"><img alt=\"\" height=\"1\" src=\"http://i.bookmooch.com/images/spacer.gif\" width=\"12\"/></td><td>\n",
            "<table border=\"0\" cellpadding=\"0\" cellspacing=\"0\" width=\"891\"><tr><td align=\"left\"><font color=\"#1F4A58\" face=\"Verdana, Arial, utopia, sans-serif\" size=\"4\">Paul Merton : My Struggle</font></td><td align=\"right\"><table border=\"0\" cellpadding=\"0\" cellspacing=\"0\" height=\"18\" id=\"button\">\n",
            "<tr>\n",
            "<td bgcolor=\"#6EB0B1\">\n",
            "<a href=\"http://wiki.bookmooch.com/index.php?title=Book+detail\" target=\"help\" title=\"help\"><img alt=\"\" bgcolor=\"#6EB0B1\" border=\"0\" height=\"18\" src=\"http://i.bookmooch.com/images/button_template_left.gif\" width=\"5\"/></a></td>\n",
            "<td bgcolor=\"#6EB0B1\" height=\"18\" valign=\"middle\"><a href=\"http://wiki.bookmooch.com/index.php?title=Book+detail\" style=\"text-decoration:none\" target=\"help\" title=\"help\"><font color=\"#FFFFFF\" face=\"Verdana, Arial, utopia, sans-serif\" size=\"2\"><nobr>?</nobr></font></a></td>\n",
            "<td bgcolor=\"#6EB0B1\">\n",
            "<a href=\"http://wiki.bookmooch.com/index.php?title=Book+detail\" target=\"help\" title=\"help\"><img alt=\"\" bgcolor=\"#6EB0B1\" border=\"0\" height=\"18\" src=\"http://i.bookmooch.com/images/button_template_right.gif\" width=\"6\"/></a></td>\n",
            "</tr>\n",
            "</table></td></tr></table><img alt=\"\" height=\"5\" src=\"http://i.bookmooch.com/images/spacer.gif\" width=\"5\"/><br/><img alt=\"\" height=\"1\" src=\"http://i.bookmooch.com/images/greydot.gif\" width=\"891\"/><br/><img alt=\"\" height=\"12\" src=\"http://i.bookmooch.com/images/spacer.gif\" width=\"1\"/><br/>\n",
            "<table border=\"0\" cellpadding=\"0\" cellspacing=\"0\" width=\"1221\"><tr><td valign=\"top\">\n",
            "<table border=\"0\" cellpadding=\"1\" cellspacing=\"0\" width=\"891\"><tr>\n",
            "<td align=\"left\" valign=\"top\">\n",
            "<table border=\"0\" cellpadding=\"1\" cellspacing=\"0\" width=\"100%\">\n",
            "<tr>\n",
            "<td align=\"right\" bgcolor=\"FFFFFF\" valign=\"top\">Author:</td>\n",
            "<td></td>\n",
            "<td bgcolor=\"FFFFFF\" valign=\"top\"><a for=\"\" href=\"/s/paul+merton\" title=\"Search for this author\">Paul Merton</a>\n",
            "</td>\n",
            "</tr>\n",
            "<tr>\n",
            "<td align=\"right\" bgcolor=\"FFFFFF\" valign=\"top\" width=\"10%\">Title:</td>\n",
            "<td><img alt=\"\" height=\"1\" src=\"http://i.bookmooch.com/images/spacer.gif\" width=\"12\"/></td>\n",
            "<td bgcolor=\"FFFFFF\" valign=\"top\" width=\"90%\"><a href=\"/s/my+struggle\" title=\"Search for this title\">My Struggle</a></td>\n",
            "</tr>\n",
            "<tr>\n",
            "<td align=\"right\" bgcolor=\"FFFFFF\" valign=\"top\">Moochable copies:</td>\n",
            "<td></td>\n",
            "<td bgcolor=\"FFFFFF\" valign=\"top\">No copies available</td>\n",
            "</tr>\n",
            "<tr>\n",
            "<td align=\"right\" bgcolor=\"FFFFFF\" valign=\"top\">Topics:</td>\n",
            "<td></td><form action=\"/topic_go\" method=\"get\" name=\"form\">\n",
            "<td bgcolor=\"FFFFFF\" valign=\"top\">\n",
            "<table border=\"0\" cellpadding=\"0\" cellspacing=\"0\"><tr><td align=\"left\" valign=\"top\"><select name=\"name\" size=\"1\"><option value=\"Audiobooks\">Audiobooks</option><option value=\"Books on Cassette\">Books on Cassette</option><option value=\"Edition (format)\">Edition (format)</option><option value=\"Entertainment\">Entertainment</option><option value=\"Humor\">Humor</option><option value=\"Refinements\">Refinements</option><option value=\"Unabridged\">Unabridged</option><option value=\"Unlaunched Refinements\">Unlaunched Refinements</option></select></td><td><img alt=\"\" height=\"1\" src=\"http://i.bookmooch.com/images/spacer.gif\" width=\"5\"/></td><td align=\"left\" valign=\"top\"><table border=\"0\" cellpadding=\"0\" cellspacing=\"0\" height=\"18\" id=\"button\">\n",
            "<tr>\n",
            "<td bgcolor=\"#6EB0B1\">\n",
            "<a href=\"javascript:document.form.submit();\" title=\"\"><img alt=\"\" bgcolor=\"#6EB0B1\" border=\"0\" height=\"18\" src=\"http://i.bookmooch.com/images/button_template_left.gif\" width=\"5\"/></a></td>\n",
            "<td bgcolor=\"#6EB0B1\" height=\"18\" valign=\"middle\"><a href=\"javascript:document.form.submit();\" style=\"text-decoration:none\" title=\"\"><font color=\"#FFFFFF\" face=\"Verdana, Arial, utopia, sans-serif\" size=\"1\"><nobr>&gt;</nobr></font></a></td>\n",
            "<td bgcolor=\"#6EB0B1\">\n",
            "<a href=\"javascript:document.form.submit();\" title=\"\"><img alt=\"\" bgcolor=\"#6EB0B1\" border=\"0\" height=\"18\" src=\"http://i.bookmooch.com/images/button_template_right.gif\" width=\"6\"/></a></td>\n",
            "</tr>\n",
            "</table></td></tr></table>\n",
            "</td></form>\n",
            "</tr>\n",
            "<tr>\n",
            "<td align=\"right\" bgcolor=\"FFFFFF\" valign=\"top\">Published in:</td>\n",
            "<td></td>\n",
            "<td bgcolor=\"FFFFFF\" valign=\"top\">English</td>\n",
            "</tr>\n",
            "<tr>\n",
            "<td align=\"right\" bgcolor=\"FFFFFF\" valign=\"top\">Binding:</td>\n",
            "<td></td>\n",
            "<td bgcolor=\"FFFFFF\" valign=\"top\">Audio Cassette</td>\n",
            "</tr>\n",
            "<tr>\n",
            "<td align=\"right\" bgcolor=\"FFFFFF\" valign=\"top\">Pages:</td>\n",
            "<td></td>\n",
            "<td bgcolor=\"FFFFFF\"></td>\n",
            "</tr>\n",
            "<tr>\n",
            "<td align=\"right\" bgcolor=\"FFFFFF\" valign=\"top\">Date:</td>\n",
            "<td></td>\n",
            "<td bgcolor=\"FFFFFF\" valign=\"top\">1996-05-20</td>\n",
            "</tr>\n",
            "<tr>\n",
            "<td align=\"right\" bgcolor=\"FFFFFF\" valign=\"top\">ISBN:</td>\n",
            "<td></td>\n",
            "<td bgcolor=\"FFFFFF\" valign=\"top\">0001052144</td>\n",
            "</tr>\n",
            "<tr>\n",
            "<td align=\"right\" bgcolor=\"FFFFFF\" valign=\"top\">Publisher:</td>\n",
            "<td></td>\n",
            "<td bgcolor=\"FFFFFF\" valign=\"top\"><a href=\"/s/HarperCollins+Audio\" title=\"Search for this publisher\">HarperCollins Audio</a></td>\n",
            "</tr>\n",
            "<tr>\n",
            "<td align=\"right\" bgcolor=\"FFFFFF\" valign=\"top\">Weight:</td>\n",
            "<td></td>\n",
            "<td bgcolor=\"FFFFFF\" valign=\"top\">0.49 pounds</td>\n",
            "</tr>\n",
            "<tr>\n",
            "<td align=\"right\" bgcolor=\"FFFFFF\" valign=\"top\">Size:</td>\n",
            "<td></td>\n",
            "<td bgcolor=\"FFFFFF\" valign=\"top\">4.25 x 5.28 x 0.63 inches</td>\n",
            "</tr>\n",
            "<tr>\n",
            "<td align=\"right\" bgcolor=\"FFFFFF\" valign=\"top\">Edition:</td>\n",
            "<td></td>\n",
            "<td bgcolor=\"FFFFFF\" valign=\"top\">Unabridged</td>\n",
            "</tr>\n",
            "<td align=\"right\" bgcolor=\"FFFFFF\" valign=\"top\">Amazon prices:</td>\n",
            "<td></td>\n",
            "<td bgcolor=\"FFFFFF\" valign=\"top\"><table bgcolor=\"DDDDDD\" cellpadding=\"0\" cellspacing=\"1\"><tr><td><table bgcolor=\"FFFFFF\" cellpadding=\"0\" cellspacing=\"3\"><tr><td>\n",
            "<table bgcolor=\"FFFFFF\" cellpadding=\"0\" cellspacing=\"0\">\n",
            "</table>\n",
            "</td></tr></table></td></tr></table> <font size=\"1\"></font></td>\n",
            "<tr>\n",
            "<td align=\"right\" bgcolor=\"FFFFFF\" valign=\"top\"></td>\n",
            "<td></td>\n",
            "<td bgcolor=\"FFFFFF\" valign=\"top\"></td>\n",
            "</tr>\n",
            "<tr>\n",
            "<td align=\"right\" bgcolor=\"FFFFFF\" valign=\"top\">Description:</td>\n",
            "<td></td>\n",
            "<td bgcolor=\"FFFFFF\" valign=\"top\"><i>Product Description</i><br/>\n",
            "In this spoof of the showbiz autobiography genre, Paul Merton writes of an East End childhood, the last days of the music halls, Pinewood, success in the Sixties, hard times, depression, wives, and a rise to the heady heights of success.\n",
            "\n",
            "</td>\n",
            "</tr>\n",
            "<tr>\n",
            "<td align=\"right\" bgcolor=\"FFFFFF\" valign=\"top\">URL:</td>\n",
            "<td></td>\n",
            "<td bgcolor=\"FFFFFF\" valign=\"top\"><a href=\"http://bookmooch.com/0001052144\" title=\"Link to this book\">http://bookmooch.com/0001052144</a></td>\n",
            "</tr>\n",
            "</table></td><td align=\"right\" valign=\"top\">\n",
            "<a href=\"http://ecx.images-amazon.com/images/I/519HN29VHDL._SL500_.jpg\" onmouseover=\"this.T_WIDTH='';return escape('&lt;img src=\\'http://images.amazon.com/images/P/0001052144.01._BO1,130,130,130_PC_SCLZZZZZZZ_.jpg\\' height=\\'\\' width=\\'\\'&gt;')\" target=\"lgamazon\" title=\"large book cover\"><img align=\"none\" alt=\"large book cover\" border=\"0\" height=\"87\" src=\"http://images.amazon.com/images/P/0001052144.01._BO1,130,130,130_PC_SCTZZZZZZZ_.jpg\" width=\"70\"/></a><p>\n",
            "</p><p>\n",
            "</p><table border=\"0\" cellpadding=\"0\" cellspacing=\"0\" height=\"18\" id=\"button\">\n",
            "<tr>\n",
            "<td bgcolor=\"#6EB0B1\">\n",
            "<a href=\"/m/wishlist_add?asin=0001052144&amp;store=amazon.com\" title=\"add this book to the list of books you want right away\"><img alt=\"\" bgcolor=\"#6EB0B1\" border=\"0\" height=\"18\" src=\"http://i.bookmooch.com/images/button_template_left.gif\" width=\"5\"/></a></td>\n",
            "<td bgcolor=\"#6EB0B1\" height=\"18\" valign=\"middle\"><a href=\"/m/wishlist_add?asin=0001052144&amp;store=amazon.com\" style=\"text-decoration:none\" title=\"add this book to the list of books you want right away\"><font color=\"#FFFFFF\" face=\"Verdana, Arial, utopia, sans-serif\" size=\"2\"><nobr>WISHLIST ADD &gt;</nobr></font></a></td>\n",
            "<td bgcolor=\"#6EB0B1\">\n",
            "<a href=\"/m/wishlist_add?asin=0001052144&amp;store=amazon.com\" title=\"add this book to the list of books you want right away\"><img alt=\"\" bgcolor=\"#6EB0B1\" border=\"0\" height=\"18\" src=\"http://i.bookmooch.com/images/button_template_right.gif\" width=\"6\"/></a></td>\n",
            "</tr>\n",
            "</table><img alt=\"\" height=\"2\" src=\"http://i.bookmooch.com/images/spacer.gif\" width=\"1\"/><br/>\n",
            "<table border=\"0\" cellpadding=\"0\" cellspacing=\"0\" height=\"18\" id=\"button\">\n",
            "<tr>\n",
            "<td bgcolor=\"#6EB0B1\">\n",
            "<a href=\"/m/savelater_add?asin=0001052144&amp;store=amazon.com\" title=\"add this book to those you may someday want\"><img alt=\"\" bgcolor=\"#6EB0B1\" border=\"0\" height=\"18\" src=\"http://i.bookmooch.com/images/button_template_left.gif\" width=\"5\"/></a></td>\n",
            "<td bgcolor=\"#6EB0B1\" height=\"18\" valign=\"middle\"><a href=\"/m/savelater_add?asin=0001052144&amp;store=amazon.com\" style=\"text-decoration:none\" title=\"add this book to those you may someday want\"><font color=\"#FFFFFF\" face=\"Verdana, Arial, utopia, sans-serif\" size=\"2\"><nobr>SAVE FOR LATER &gt;</nobr></font></a></td>\n",
            "<td bgcolor=\"#6EB0B1\">\n",
            "<a href=\"/m/savelater_add?asin=0001052144&amp;store=amazon.com\" title=\"add this book to those you may someday want\"><img alt=\"\" bgcolor=\"#6EB0B1\" border=\"0\" height=\"18\" src=\"http://i.bookmooch.com/images/button_template_right.gif\" width=\"6\"/></a></td>\n",
            "</tr>\n",
            "</table><img alt=\"\" height=\"2\" src=\"http://i.bookmooch.com/images/spacer.gif\" width=\"1\"/><br/>\n",
            "<table border=\"0\" cellpadding=\"0\" cellspacing=\"0\" height=\"18\" id=\"button\">\n",
            "<tr>\n",
            "<td bgcolor=\"#6EB0B1\">\n",
            "<a href=\"http://www.amazon.it/gp/product/0001052144?ie=UTF8&amp;tag=book05e-21&amp;linkCode=bn1\" target=\"amazon-0001052144\" title=\"more info about this book at Amazon (a small commission goes to BookMooch if you buy books with this link)\"><img alt=\"\" bgcolor=\"#6EB0B1\" border=\"0\" height=\"18\" src=\"http://i.bookmooch.com/images/button_template_left.gif\" width=\"5\"/></a></td>\n",
            "<td bgcolor=\"#6EB0B1\" height=\"18\" valign=\"middle\"><a href=\"http://www.amazon.it/gp/product/0001052144?ie=UTF8&amp;tag=book05e-21&amp;linkCode=bn1\" style=\"text-decoration:none\" target=\"amazon-0001052144\" title=\"more info about this book at Amazon (a small commission goes to BookMooch if you buy books with this link)\"><font color=\"#FFFFFF\" face=\"Verdana, Arial, utopia, sans-serif\" size=\"2\"><nobr>AMAZON &gt;</nobr></font></a></td>\n",
            "<td bgcolor=\"#6EB0B1\">\n",
            "<a href=\"http://www.amazon.it/gp/product/0001052144?ie=UTF8&amp;tag=book05e-21&amp;linkCode=bn1\" target=\"amazon-0001052144\" title=\"more info about this book at Amazon (a small commission goes to BookMooch if you buy books with this link)\"><img alt=\"\" bgcolor=\"#6EB0B1\" border=\"0\" height=\"18\" src=\"http://i.bookmooch.com/images/button_template_right.gif\" width=\"6\"/></a></td>\n",
            "</tr>\n",
            "</table><img alt=\"\" height=\"2\" src=\"http://i.bookmooch.com/images/spacer.gif\" width=\"1\"/><br/>\n",
            "<table border=\"0\" cellpadding=\"0\" cellspacing=\"0\" height=\"18\" id=\"button\">\n",
            "<tr>\n",
            "<td bgcolor=\"#6EB0B1\">\n",
            "<a href=\"/book_sites?asin=0001052144\" title=\"other web sites with information about this book\"><img alt=\"\" bgcolor=\"#6EB0B1\" border=\"0\" height=\"18\" src=\"http://i.bookmooch.com/images/button_template_left.gif\" width=\"5\"/></a></td>\n",
            "<td bgcolor=\"#6EB0B1\" height=\"18\" valign=\"middle\"><a href=\"/book_sites?asin=0001052144\" style=\"text-decoration:none\" title=\"other web sites with information about this book\"><font color=\"#FFFFFF\" face=\"Verdana, Arial, utopia, sans-serif\" size=\"2\"><nobr>OTHER WEB SITES &gt;</nobr></font></a></td>\n",
            "<td bgcolor=\"#6EB0B1\">\n",
            "<a href=\"/book_sites?asin=0001052144\" title=\"other web sites with information about this book\"><img alt=\"\" bgcolor=\"#6EB0B1\" border=\"0\" height=\"18\" src=\"http://i.bookmooch.com/images/button_template_right.gif\" width=\"6\"/></a></td>\n",
            "</tr>\n",
            "</table><img alt=\"\" height=\"2\" src=\"http://i.bookmooch.com/images/spacer.gif\" width=\"1\"/><br/>\n",
            "<table border=\"0\" cellpadding=\"0\" cellspacing=\"0\" height=\"18\" id=\"button\">\n",
            "<tr>\n",
            "<td bgcolor=\"#6EB0B1\">\n",
            "<a href=\"/related_show?asin=0001052144\" title=\"show books that are related editions to this one\"><img alt=\"\" bgcolor=\"#6EB0B1\" border=\"0\" height=\"18\" src=\"http://i.bookmooch.com/images/button_template_left.gif\" width=\"5\"/></a></td>\n",
            "<td bgcolor=\"#6EB0B1\" height=\"18\" valign=\"middle\"><a href=\"/related_show?asin=0001052144\" style=\"text-decoration:none\" title=\"show books that are related editions to this one\"><font color=\"#FFFFFF\" face=\"Verdana, Arial, utopia, sans-serif\" size=\"2\"><nobr>RELATED EDITIONS &gt;</nobr></font></a></td>\n",
            "<td bgcolor=\"#6EB0B1\">\n",
            "<a href=\"/related_show?asin=0001052144\" title=\"show books that are related editions to this one\"><img alt=\"\" bgcolor=\"#6EB0B1\" border=\"0\" height=\"18\" src=\"http://i.bookmooch.com/images/button_template_right.gif\" width=\"6\"/></a></td>\n",
            "</tr>\n",
            "</table><img alt=\"\" height=\"2\" src=\"http://i.bookmooch.com/images/spacer.gif\" width=\"1\"/><br/>\n",
            "<table border=\"0\" cellpadding=\"0\" cellspacing=\"0\" height=\"18\" id=\"button\">\n",
            "<tr>\n",
            "<td bgcolor=\"#6EB0B1\">\n",
            "<a href=\"/recommend?asin=0001052144\" title=\"recommend this book to someone else\"><img alt=\"\" bgcolor=\"#6EB0B1\" border=\"0\" height=\"18\" src=\"http://i.bookmooch.com/images/button_template_left.gif\" width=\"5\"/></a></td>\n",
            "<td bgcolor=\"#6EB0B1\" height=\"18\" valign=\"middle\"><a href=\"/recommend?asin=0001052144\" style=\"text-decoration:none\" title=\"recommend this book to someone else\"><font color=\"#FFFFFF\" face=\"Verdana, Arial, utopia, sans-serif\" size=\"2\"><nobr>RECOMMEND &gt;</nobr></font></a></td>\n",
            "<td bgcolor=\"#6EB0B1\">\n",
            "<a href=\"/recommend?asin=0001052144\" title=\"recommend this book to someone else\"><img alt=\"\" bgcolor=\"#6EB0B1\" border=\"0\" height=\"18\" src=\"http://i.bookmooch.com/images/button_template_right.gif\" width=\"6\"/></a></td>\n",
            "</tr>\n",
            "</table><img alt=\"\" height=\"2\" src=\"http://i.bookmooch.com/images/spacer.gif\" width=\"1\"/><br/>\n",
            "</td></tr></table>\n",
            "</td><td width=\"10\"><img alt=\"\" height=\"1\" src=\"http://i.bookmooch.com/images/spacer.gif\" width=\"10\"/></td><td valign=\"top\" width=\"320\" xbgcolor=\"AAAAAA\"><link href=\"http://cache.blogads.com/582081819/feed.css\" rel=\"stylesheet\" type=\"text/css\"/><script language=\"javascript\" src=\"http://cache.blogads.com/582081819/feed.js\"></script><link href=\"http://cache.blogads.com/990819385/feed.css\" rel=\"stylesheet\" type=\"text/css\"/><script language=\"javascript\" src=\"http://cache.blogads.com/990819385/feed.js\"></script><br/></td></tr></table>\n",
            "</td><td><img alt=\"\" height=\"12\" src=\"http://i.bookmooch.com/images/spacer.gif\" width=\"12\"/></td><tr><td></td><td></td></tr></table>\n",
            "<script language=\"JavaScript\" src=\"http://i.bookmooch.com/js/wz_tooltip.js\" type=\"text/javascript\"></script>\n",
            "</font></body>\n",
            "</html>\n"
          ]
        }
      ],
      "source": [
        "print(soup)"
      ]
    },
    {
      "cell_type": "code",
      "execution_count": 49,
      "metadata": {},
      "outputs": [
        {
          "name": "stdout",
          "output_type": "stream",
          "text": [
            "<html>\n",
            "<head profile=\"http://www.w3.org/2005/10/profile\">\n",
            "<link href=\"http://i.bookmooch.com/favicon.ico\" rel=\"SHORTCUT ICON\"/>\n",
            "<link href=\"http://i.bookmooch.com/favicon.png\" rel=\"icon\" type=\"image/png\"/>\n",
            "<title>Paul Merton : My Struggle</title>\n",
            "<meta content=\"text/html\" http-equiv=\"Content-Type\"/>\n",
            "</head>\n",
            "<body alink=\"#FF0000\" bgcolor=\"#FFFFFF\" leftmargin=\"0\" link=\"#0000FF\" marginheight=\"0\" marginwidth=\"0\" text=\"#000000\" topmargin=\"0\" vlink=\"#0000FF\">\n",
            "<basefont face=\"arial, sans-serif\"/><font face=\"arial, sans-serif\">\n",
            "<table border=\"0\" cellpadding=\"0\" cellspacing=\"0\" height=\"70\" width=\"100%\">\n",
            "<tr><form action=\"/search\" method=\"get\">\n",
            "<td bgcolor=\"#689A9B\" colspan=\"2\" rowspan=\"2\" width=\"283\">\n",
            "<a href=\"/\">\n",
            "<img alt=\"BookMooch logo\" border=\"0\" height=\"66\" src=\"http://i.bookmooch.com/images/bookmooch_logo.gif\" width=\"283\"/></a></td>\n",
            "<td align=\"right\" bgcolor=\"#689A9B\" colspan=\"9\" height=\"38\" width=\"675\" xcolor=\"#689A9B\">\n",
            "<table border=\"0\" cellpadding=\"0\" cellspacing=\"0\"><tr>\n",
            "<td align=\"right\" height=\"18\" valign=\"middle\" width=\"270\">\n",
            "<input maxlength=\"100\" name=\"w\" size=\"20\" type=\"text\" value=\"\"/> </td>\n",
            "<td align=\"right\" height=\"18\" valign=\"middle\" width=\"67\"><input alt=\"search\" border=\"0\" height=\"18\" name=\"search\" src=\"http://i.bookmooch.com/images/search_button.gif\" title=\"search\" type=\"image\" width=\"67\"/></td>\n",
            "<td height=\"38\" width=\"37\"><img alt=\"\" height=\"1\" src=\"http://i.bookmooch.com/images/spacer.gif\" width=\"10\"/></td></tr>\n",
            "</table>\n",
            "</td>\n",
            "<td bgcolor=\"#689A9B\" width=\"940\"><img alt=\"\" height=\"1\" src=\"http://i.bookmooch.com/images/spacer.gif\" width=\"1\"/></td>\n",
            "</form></tr>\n",
            "<tr>\n",
            "<td bgcolor=\"#689A9B\" height=\"28\" width=\"193\"><img alt=\"\" height=\"28\" src=\"http://i.bookmooch.com/images/spacer.gif\" width=\"193\"/></td>\n",
            "<td bgcolor=\"#FFFF99\"><a href=\"/\"><img alt=\"home\" border=\"0\" height=\"28\" src=\"http://i.bookmooch.com/images/home.gif\" width=\"85\"/></a></td>\n",
            "<td bgcolor=\"#98D5DF\"><a href=\"/browse\"><img alt=\"browse\" border=\"0\" height=\"28\" src=\"http://i.bookmooch.com/images/browse_selected.gif\" width=\"86\"/></a></td>\n",
            "<td bgcolor=\"#97D5DF\" colspan=\"2\"><a href=\"/about/\"><img alt=\"about\" border=\"0\" height=\"28\" src=\"http://i.bookmooch.com/images/about.gif\" width=\"85\"/></a></td>\n",
            "<td bgcolor=\"#8DD1D8\"><a href=\"/join\"><img alt=\"join\" border=\"0\" height=\"28\" src=\"http://i.bookmooch.com/images/join.gif\" width=\"86\"/></a></td>\n",
            "<td bgcolor=\"#92D3DD\"><a href=\"/login\"><img alt=\"login\" border=\"0\" height=\"28\" src=\"http://i.bookmooch.com/images/login.gif\" width=\"84\"/></a></td>\n",
            "<td bgcolor=\"#689A9B\" colspan=\"2\" height=\"28\" width=\"38\"><img alt=\"\" height=\"28\" src=\"http://i.bookmooch.com/images/spacer.gif\" width=\"38\"/></td><td bgcolor=\"#689A9B\" width=\"100%\"><img alt=\"\" height=\"1\" src=\"http://i.bookmooch.com/images/spacer.gif\" width=\"1\"/></td>\n",
            "</tr>\n",
            "<tr>\n",
            "<td bgcolor=\"#FFFF99\" colspan=\"11\" height=\"4\" width=\"940\">\n",
            "<img alt=\"\" height=\"4\" src=\"http://i.bookmooch.com/images/spacer.gif\" width=\"940\"/></td><td bgcolor=\"#FFFF99\" width=\"100%\"><img alt=\"\" height=\"1\" src=\"http://i.bookmooch.com/images/spacer.gif\" width=\"1\"/></td>\n",
            "</tr>\n",
            "</table>\n",
            "<table border=\"0\" cellpadding=\"0\" cellspacing=\"0\" width=\"100%\"><tr>\n",
            "<td><img alt=\"\" height=\"12\" src=\"http://i.bookmooch.com/images/spacer.gif\" width=\"1\"/></td><td></td><td></td></tr><td width=\"12\"><img alt=\"\" height=\"1\" src=\"http://i.bookmooch.com/images/spacer.gif\" width=\"12\"/></td><td>\n",
            "<table border=\"0\" cellpadding=\"0\" cellspacing=\"0\" width=\"891\"><tr><td align=\"left\"><font color=\"#1F4A58\" face=\"Verdana, Arial, utopia, sans-serif\" size=\"4\">Paul Merton : My Struggle</font></td><td align=\"right\"><table border=\"0\" cellpadding=\"0\" cellspacing=\"0\" height=\"18\" id=\"button\">\n",
            "<tr>\n",
            "<td bgcolor=\"#6EB0B1\">\n",
            "<a href=\"http://wiki.bookmooch.com/index.php?title=Book+detail\" target=\"help\" title=\"help\"><img alt=\"\" bgcolor=\"#6EB0B1\" border=\"0\" height=\"18\" src=\"http://i.bookmooch.com/images/button_template_left.gif\" width=\"5\"/></a></td>\n",
            "<td bgcolor=\"#6EB0B1\" height=\"18\" valign=\"middle\"><a href=\"http://wiki.bookmooch.com/index.php?title=Book+detail\" style=\"text-decoration:none\" target=\"help\" title=\"help\"><font color=\"#FFFFFF\" face=\"Verdana, Arial, utopia, sans-serif\" size=\"2\"><nobr>?</nobr></font></a></td>\n",
            "<td bgcolor=\"#6EB0B1\">\n",
            "<a href=\"http://wiki.bookmooch.com/index.php?title=Book+detail\" target=\"help\" title=\"help\"><img alt=\"\" bgcolor=\"#6EB0B1\" border=\"0\" height=\"18\" src=\"http://i.bookmooch.com/images/button_template_right.gif\" width=\"6\"/></a></td>\n",
            "</tr>\n",
            "</table></td></tr></table><img alt=\"\" height=\"5\" src=\"http://i.bookmooch.com/images/spacer.gif\" width=\"5\"/><br/><img alt=\"\" height=\"1\" src=\"http://i.bookmooch.com/images/greydot.gif\" width=\"891\"/><br/><img alt=\"\" height=\"12\" src=\"http://i.bookmooch.com/images/spacer.gif\" width=\"1\"/><br/>\n",
            "<table border=\"0\" cellpadding=\"0\" cellspacing=\"0\" width=\"1221\"><tr><td valign=\"top\">\n",
            "<table border=\"0\" cellpadding=\"1\" cellspacing=\"0\" width=\"891\"><tr>\n",
            "<td align=\"left\" valign=\"top\">\n",
            "<table border=\"0\" cellpadding=\"1\" cellspacing=\"0\" width=\"100%\">\n",
            "<tr>\n",
            "<td align=\"right\" bgcolor=\"FFFFFF\" valign=\"top\">Author:</td>\n",
            "<td></td>\n",
            "<td bgcolor=\"FFFFFF\" valign=\"top\"><a for=\"\" href=\"/s/paul+merton\" title=\"Search for this author\">Paul Merton</a>\n",
            "</td>\n",
            "</tr>\n",
            "<tr>\n",
            "<td align=\"right\" bgcolor=\"FFFFFF\" valign=\"top\" width=\"10%\">Title:</td>\n",
            "<td><img alt=\"\" height=\"1\" src=\"http://i.bookmooch.com/images/spacer.gif\" width=\"12\"/></td>\n",
            "<td bgcolor=\"FFFFFF\" valign=\"top\" width=\"90%\"><a href=\"/s/my+struggle\" title=\"Search for this title\">My Struggle</a></td>\n",
            "</tr>\n",
            "<tr>\n",
            "<td align=\"right\" bgcolor=\"FFFFFF\" valign=\"top\">Moochable copies:</td>\n",
            "<td></td>\n",
            "<td bgcolor=\"FFFFFF\" valign=\"top\">No copies available</td>\n",
            "</tr>\n",
            "<tr>\n",
            "<td align=\"right\" bgcolor=\"FFFFFF\" valign=\"top\">Topics:</td>\n",
            "<td></td><form action=\"/topic_go\" method=\"get\" name=\"form\">\n",
            "<td bgcolor=\"FFFFFF\" valign=\"top\">\n",
            "<table border=\"0\" cellpadding=\"0\" cellspacing=\"0\"><tr><td align=\"left\" valign=\"top\"><select name=\"name\" size=\"1\"><option value=\"Audiobooks\">Audiobooks</option><option value=\"Books on Cassette\">Books on Cassette</option><option value=\"Edition (format)\">Edition (format)</option><option value=\"Entertainment\">Entertainment</option><option value=\"Humor\">Humor</option><option value=\"Refinements\">Refinements</option><option value=\"Unabridged\">Unabridged</option><option value=\"Unlaunched Refinements\">Unlaunched Refinements</option></select></td><td><img alt=\"\" height=\"1\" src=\"http://i.bookmooch.com/images/spacer.gif\" width=\"5\"/></td><td align=\"left\" valign=\"top\"><table border=\"0\" cellpadding=\"0\" cellspacing=\"0\" height=\"18\" id=\"button\">\n",
            "<tr>\n",
            "<td bgcolor=\"#6EB0B1\">\n",
            "<a href=\"javascript:document.form.submit();\" title=\"\"><img alt=\"\" bgcolor=\"#6EB0B1\" border=\"0\" height=\"18\" src=\"http://i.bookmooch.com/images/button_template_left.gif\" width=\"5\"/></a></td>\n",
            "<td bgcolor=\"#6EB0B1\" height=\"18\" valign=\"middle\"><a href=\"javascript:document.form.submit();\" style=\"text-decoration:none\" title=\"\"><font color=\"#FFFFFF\" face=\"Verdana, Arial, utopia, sans-serif\" size=\"1\"><nobr>&gt;</nobr></font></a></td>\n",
            "<td bgcolor=\"#6EB0B1\">\n",
            "<a href=\"javascript:document.form.submit();\" title=\"\"><img alt=\"\" bgcolor=\"#6EB0B1\" border=\"0\" height=\"18\" src=\"http://i.bookmooch.com/images/button_template_right.gif\" width=\"6\"/></a></td>\n",
            "</tr>\n",
            "</table></td></tr></table>\n",
            "</td></form>\n",
            "</tr>\n",
            "<tr>\n",
            "<td align=\"right\" bgcolor=\"FFFFFF\" valign=\"top\">Published in:</td>\n",
            "<td></td>\n",
            "<td bgcolor=\"FFFFFF\" valign=\"top\">English</td>\n",
            "</tr>\n",
            "<tr>\n",
            "<td align=\"right\" bgcolor=\"FFFFFF\" valign=\"top\">Binding:</td>\n",
            "<td></td>\n",
            "<td bgcolor=\"FFFFFF\" valign=\"top\">Audio Cassette</td>\n",
            "</tr>\n",
            "<tr>\n",
            "<td align=\"right\" bgcolor=\"FFFFFF\" valign=\"top\">Pages:</td>\n",
            "<td></td>\n",
            "<td bgcolor=\"FFFFFF\"></td>\n",
            "</tr>\n",
            "<tr>\n",
            "<td align=\"right\" bgcolor=\"FFFFFF\" valign=\"top\">Date:</td>\n",
            "<td></td>\n",
            "<td bgcolor=\"FFFFFF\" valign=\"top\">1996-05-20</td>\n",
            "</tr>\n",
            "<tr>\n",
            "<td align=\"right\" bgcolor=\"FFFFFF\" valign=\"top\">ISBN:</td>\n",
            "<td></td>\n",
            "<td bgcolor=\"FFFFFF\" valign=\"top\">0001052144</td>\n",
            "</tr>\n",
            "<tr>\n",
            "<td align=\"right\" bgcolor=\"FFFFFF\" valign=\"top\">Publisher:</td>\n",
            "<td></td>\n",
            "<td bgcolor=\"FFFFFF\" valign=\"top\"><a href=\"/s/HarperCollins+Audio\" title=\"Search for this publisher\">HarperCollins Audio</a></td>\n",
            "</tr>\n",
            "<tr>\n",
            "<td align=\"right\" bgcolor=\"FFFFFF\" valign=\"top\">Weight:</td>\n",
            "<td></td>\n",
            "<td bgcolor=\"FFFFFF\" valign=\"top\">0.49 pounds</td>\n",
            "</tr>\n",
            "<tr>\n",
            "<td align=\"right\" bgcolor=\"FFFFFF\" valign=\"top\">Size:</td>\n",
            "<td></td>\n",
            "<td bgcolor=\"FFFFFF\" valign=\"top\">4.25 x 5.28 x 0.63 inches</td>\n",
            "</tr>\n",
            "<tr>\n",
            "<td align=\"right\" bgcolor=\"FFFFFF\" valign=\"top\">Edition:</td>\n",
            "<td></td>\n",
            "<td bgcolor=\"FFFFFF\" valign=\"top\">Unabridged</td>\n",
            "</tr>\n",
            "<td align=\"right\" bgcolor=\"FFFFFF\" valign=\"top\">Amazon prices:</td>\n",
            "<td></td>\n",
            "<td bgcolor=\"FFFFFF\" valign=\"top\"><table bgcolor=\"DDDDDD\" cellpadding=\"0\" cellspacing=\"1\"><tr><td><table bgcolor=\"FFFFFF\" cellpadding=\"0\" cellspacing=\"3\"><tr><td>\n",
            "<table bgcolor=\"FFFFFF\" cellpadding=\"0\" cellspacing=\"0\">\n",
            "</table>\n",
            "</td></tr></table></td></tr></table> <font size=\"1\"></font></td>\n",
            "<tr>\n",
            "<td align=\"right\" bgcolor=\"FFFFFF\" valign=\"top\"></td>\n",
            "<td></td>\n",
            "<td bgcolor=\"FFFFFF\" valign=\"top\"></td>\n",
            "</tr>\n",
            "<tr>\n",
            "<td align=\"right\" bgcolor=\"FFFFFF\" valign=\"top\">Description:</td>\n",
            "<td></td>\n",
            "<td bgcolor=\"FFFFFF\" valign=\"top\"><i>Product Description</i><br/>\n",
            "In this spoof of the showbiz autobiography genre, Paul Merton writes of an East End childhood, the last days of the music halls, Pinewood, success in the Sixties, hard times, depression, wives, and a rise to the heady heights of success.\n",
            "\n",
            "</td>\n",
            "</tr>\n",
            "<tr>\n",
            "<td align=\"right\" bgcolor=\"FFFFFF\" valign=\"top\">URL:</td>\n",
            "<td></td>\n",
            "<td bgcolor=\"FFFFFF\" valign=\"top\"><a href=\"http://bookmooch.com/0001052144\" title=\"Link to this book\">http://bookmooch.com/0001052144</a></td>\n",
            "</tr>\n",
            "</table></td><td align=\"right\" valign=\"top\">\n",
            "<a href=\"http://ecx.images-amazon.com/images/I/519HN29VHDL._SL500_.jpg\" onmouseover=\"this.T_WIDTH='';return escape('&lt;img src=\\'http://images.amazon.com/images/P/0001052144.01._BO1,130,130,130_PC_SCLZZZZZZZ_.jpg\\' height=\\'\\' width=\\'\\'&gt;')\" target=\"lgamazon\" title=\"large book cover\"><img align=\"none\" alt=\"large book cover\" border=\"0\" height=\"87\" src=\"http://images.amazon.com/images/P/0001052144.01._BO1,130,130,130_PC_SCTZZZZZZZ_.jpg\" width=\"70\"/></a><p>\n",
            "</p><p>\n",
            "</p><table border=\"0\" cellpadding=\"0\" cellspacing=\"0\" height=\"18\" id=\"button\">\n",
            "<tr>\n",
            "<td bgcolor=\"#6EB0B1\">\n",
            "<a href=\"/m/wishlist_add?asin=0001052144&amp;store=amazon.com\" title=\"add this book to the list of books you want right away\"><img alt=\"\" bgcolor=\"#6EB0B1\" border=\"0\" height=\"18\" src=\"http://i.bookmooch.com/images/button_template_left.gif\" width=\"5\"/></a></td>\n",
            "<td bgcolor=\"#6EB0B1\" height=\"18\" valign=\"middle\"><a href=\"/m/wishlist_add?asin=0001052144&amp;store=amazon.com\" style=\"text-decoration:none\" title=\"add this book to the list of books you want right away\"><font color=\"#FFFFFF\" face=\"Verdana, Arial, utopia, sans-serif\" size=\"2\"><nobr>WISHLIST ADD &gt;</nobr></font></a></td>\n",
            "<td bgcolor=\"#6EB0B1\">\n",
            "<a href=\"/m/wishlist_add?asin=0001052144&amp;store=amazon.com\" title=\"add this book to the list of books you want right away\"><img alt=\"\" bgcolor=\"#6EB0B1\" border=\"0\" height=\"18\" src=\"http://i.bookmooch.com/images/button_template_right.gif\" width=\"6\"/></a></td>\n",
            "</tr>\n",
            "</table><img alt=\"\" height=\"2\" src=\"http://i.bookmooch.com/images/spacer.gif\" width=\"1\"/><br/>\n",
            "<table border=\"0\" cellpadding=\"0\" cellspacing=\"0\" height=\"18\" id=\"button\">\n",
            "<tr>\n",
            "<td bgcolor=\"#6EB0B1\">\n",
            "<a href=\"/m/savelater_add?asin=0001052144&amp;store=amazon.com\" title=\"add this book to those you may someday want\"><img alt=\"\" bgcolor=\"#6EB0B1\" border=\"0\" height=\"18\" src=\"http://i.bookmooch.com/images/button_template_left.gif\" width=\"5\"/></a></td>\n",
            "<td bgcolor=\"#6EB0B1\" height=\"18\" valign=\"middle\"><a href=\"/m/savelater_add?asin=0001052144&amp;store=amazon.com\" style=\"text-decoration:none\" title=\"add this book to those you may someday want\"><font color=\"#FFFFFF\" face=\"Verdana, Arial, utopia, sans-serif\" size=\"2\"><nobr>SAVE FOR LATER &gt;</nobr></font></a></td>\n",
            "<td bgcolor=\"#6EB0B1\">\n",
            "<a href=\"/m/savelater_add?asin=0001052144&amp;store=amazon.com\" title=\"add this book to those you may someday want\"><img alt=\"\" bgcolor=\"#6EB0B1\" border=\"0\" height=\"18\" src=\"http://i.bookmooch.com/images/button_template_right.gif\" width=\"6\"/></a></td>\n",
            "</tr>\n",
            "</table><img alt=\"\" height=\"2\" src=\"http://i.bookmooch.com/images/spacer.gif\" width=\"1\"/><br/>\n",
            "<table border=\"0\" cellpadding=\"0\" cellspacing=\"0\" height=\"18\" id=\"button\">\n",
            "<tr>\n",
            "<td bgcolor=\"#6EB0B1\">\n",
            "<a href=\"http://www.amazon.it/gp/product/0001052144?ie=UTF8&amp;tag=book05e-21&amp;linkCode=bn1\" target=\"amazon-0001052144\" title=\"more info about this book at Amazon (a small commission goes to BookMooch if you buy books with this link)\"><img alt=\"\" bgcolor=\"#6EB0B1\" border=\"0\" height=\"18\" src=\"http://i.bookmooch.com/images/button_template_left.gif\" width=\"5\"/></a></td>\n",
            "<td bgcolor=\"#6EB0B1\" height=\"18\" valign=\"middle\"><a href=\"http://www.amazon.it/gp/product/0001052144?ie=UTF8&amp;tag=book05e-21&amp;linkCode=bn1\" style=\"text-decoration:none\" target=\"amazon-0001052144\" title=\"more info about this book at Amazon (a small commission goes to BookMooch if you buy books with this link)\"><font color=\"#FFFFFF\" face=\"Verdana, Arial, utopia, sans-serif\" size=\"2\"><nobr>AMAZON &gt;</nobr></font></a></td>\n",
            "<td bgcolor=\"#6EB0B1\">\n",
            "<a href=\"http://www.amazon.it/gp/product/0001052144?ie=UTF8&amp;tag=book05e-21&amp;linkCode=bn1\" target=\"amazon-0001052144\" title=\"more info about this book at Amazon (a small commission goes to BookMooch if you buy books with this link)\"><img alt=\"\" bgcolor=\"#6EB0B1\" border=\"0\" height=\"18\" src=\"http://i.bookmooch.com/images/button_template_right.gif\" width=\"6\"/></a></td>\n",
            "</tr>\n",
            "</table><img alt=\"\" height=\"2\" src=\"http://i.bookmooch.com/images/spacer.gif\" width=\"1\"/><br/>\n",
            "<table border=\"0\" cellpadding=\"0\" cellspacing=\"0\" height=\"18\" id=\"button\">\n",
            "<tr>\n",
            "<td bgcolor=\"#6EB0B1\">\n",
            "<a href=\"/book_sites?asin=0001052144\" title=\"other web sites with information about this book\"><img alt=\"\" bgcolor=\"#6EB0B1\" border=\"0\" height=\"18\" src=\"http://i.bookmooch.com/images/button_template_left.gif\" width=\"5\"/></a></td>\n",
            "<td bgcolor=\"#6EB0B1\" height=\"18\" valign=\"middle\"><a href=\"/book_sites?asin=0001052144\" style=\"text-decoration:none\" title=\"other web sites with information about this book\"><font color=\"#FFFFFF\" face=\"Verdana, Arial, utopia, sans-serif\" size=\"2\"><nobr>OTHER WEB SITES &gt;</nobr></font></a></td>\n",
            "<td bgcolor=\"#6EB0B1\">\n",
            "<a href=\"/book_sites?asin=0001052144\" title=\"other web sites with information about this book\"><img alt=\"\" bgcolor=\"#6EB0B1\" border=\"0\" height=\"18\" src=\"http://i.bookmooch.com/images/button_template_right.gif\" width=\"6\"/></a></td>\n",
            "</tr>\n",
            "</table><img alt=\"\" height=\"2\" src=\"http://i.bookmooch.com/images/spacer.gif\" width=\"1\"/><br/>\n",
            "<table border=\"0\" cellpadding=\"0\" cellspacing=\"0\" height=\"18\" id=\"button\">\n",
            "<tr>\n",
            "<td bgcolor=\"#6EB0B1\">\n",
            "<a href=\"/related_show?asin=0001052144\" title=\"show books that are related editions to this one\"><img alt=\"\" bgcolor=\"#6EB0B1\" border=\"0\" height=\"18\" src=\"http://i.bookmooch.com/images/button_template_left.gif\" width=\"5\"/></a></td>\n",
            "<td bgcolor=\"#6EB0B1\" height=\"18\" valign=\"middle\"><a href=\"/related_show?asin=0001052144\" style=\"text-decoration:none\" title=\"show books that are related editions to this one\"><font color=\"#FFFFFF\" face=\"Verdana, Arial, utopia, sans-serif\" size=\"2\"><nobr>RELATED EDITIONS &gt;</nobr></font></a></td>\n",
            "<td bgcolor=\"#6EB0B1\">\n",
            "<a href=\"/related_show?asin=0001052144\" title=\"show books that are related editions to this one\"><img alt=\"\" bgcolor=\"#6EB0B1\" border=\"0\" height=\"18\" src=\"http://i.bookmooch.com/images/button_template_right.gif\" width=\"6\"/></a></td>\n",
            "</tr>\n",
            "</table><img alt=\"\" height=\"2\" src=\"http://i.bookmooch.com/images/spacer.gif\" width=\"1\"/><br/>\n",
            "<table border=\"0\" cellpadding=\"0\" cellspacing=\"0\" height=\"18\" id=\"button\">\n",
            "<tr>\n",
            "<td bgcolor=\"#6EB0B1\">\n",
            "<a href=\"/recommend?asin=0001052144\" title=\"recommend this book to someone else\"><img alt=\"\" bgcolor=\"#6EB0B1\" border=\"0\" height=\"18\" src=\"http://i.bookmooch.com/images/button_template_left.gif\" width=\"5\"/></a></td>\n",
            "<td bgcolor=\"#6EB0B1\" height=\"18\" valign=\"middle\"><a href=\"/recommend?asin=0001052144\" style=\"text-decoration:none\" title=\"recommend this book to someone else\"><font color=\"#FFFFFF\" face=\"Verdana, Arial, utopia, sans-serif\" size=\"2\"><nobr>RECOMMEND &gt;</nobr></font></a></td>\n",
            "<td bgcolor=\"#6EB0B1\">\n",
            "<a href=\"/recommend?asin=0001052144\" title=\"recommend this book to someone else\"><img alt=\"\" bgcolor=\"#6EB0B1\" border=\"0\" height=\"18\" src=\"http://i.bookmooch.com/images/button_template_right.gif\" width=\"6\"/></a></td>\n",
            "</tr>\n",
            "</table><img alt=\"\" height=\"2\" src=\"http://i.bookmooch.com/images/spacer.gif\" width=\"1\"/><br/>\n",
            "</td></tr></table>\n",
            "</td><td width=\"10\"><img alt=\"\" height=\"1\" src=\"http://i.bookmooch.com/images/spacer.gif\" width=\"10\"/></td><td valign=\"top\" width=\"320\" xbgcolor=\"AAAAAA\"><link href=\"http://cache.blogads.com/582081819/feed.css\" rel=\"stylesheet\" type=\"text/css\"/><script language=\"javascript\" src=\"http://cache.blogads.com/582081819/feed.js\"></script><link href=\"http://cache.blogads.com/990819385/feed.css\" rel=\"stylesheet\" type=\"text/css\"/><script language=\"javascript\" src=\"http://cache.blogads.com/990819385/feed.js\"></script><br/></td></tr></table>\n",
            "</td><td><img alt=\"\" height=\"12\" src=\"http://i.bookmooch.com/images/spacer.gif\" width=\"12\"/></td><tr><td></td><td></td></tr></table>\n",
            "<script language=\"JavaScript\" src=\"http://i.bookmooch.com/js/wz_tooltip.js\" type=\"text/javascript\"></script>\n",
            "</font></body>\n",
            "</html>\n"
          ]
        }
      ],
      "source": [
        "for i,row in enumerate (soup):\n",
        "    print(row)"
      ]
    },
    {
      "cell_type": "code",
      "execution_count": 50,
      "metadata": {},
      "outputs": [
        {
          "name": "stdout",
          "output_type": "stream",
          "text": [
            "<html>\n",
            "<head profile=\"http://www.w3.org/2005/10/profile\">\n",
            "<link href=\"http://i.bookmooch.com/favicon.ico\" rel=\"SHORTCUT ICON\"/>\n",
            "<link href=\"http://i.bookmooch.com/favicon.png\" rel=\"icon\" type=\"image/png\"/>\n",
            "<title>Paul Merton : My Struggle</title>\n",
            "<meta content=\"text/html\" http-equiv=\"Content-Type\"/>\n",
            "</head>\n",
            "<body alink=\"#FF0000\" bgcolor=\"#FFFFFF\" leftmargin=\"0\" link=\"#0000FF\" marginheight=\"0\" marginwidth=\"0\" text=\"#000000\" topmargin=\"0\" vlink=\"#0000FF\">\n",
            "<basefont face=\"arial, sans-serif\"/><font face=\"arial, sans-serif\">\n",
            "<table border=\"0\" cellpadding=\"0\" cellspacing=\"0\" height=\"70\" width=\"100%\">\n",
            "<tr><form action=\"/search\" method=\"get\">\n",
            "<td bgcolor=\"#689A9B\" colspan=\"2\" rowspan=\"2\" width=\"283\">\n",
            "<a href=\"/\">\n",
            "<img alt=\"BookMooch logo\" border=\"0\" height=\"66\" src=\"http://i.bookmooch.com/images/bookmooch_logo.gif\" width=\"283\"/></a></td>\n",
            "<td align=\"right\" bgcolor=\"#689A9B\" colspan=\"9\" height=\"38\" width=\"675\" xcolor=\"#689A9B\">\n",
            "<table border=\"0\" cellpadding=\"0\" cellspacing=\"0\"><tr>\n",
            "<td align=\"right\" height=\"18\" valign=\"middle\" width=\"270\">\n",
            "<input maxlength=\"100\" name=\"w\" size=\"20\" type=\"text\" value=\"\"/> </td>\n",
            "<td align=\"right\" height=\"18\" valign=\"middle\" width=\"67\"><input alt=\"search\" border=\"0\" height=\"18\" name=\"search\" src=\"http://i.bookmooch.com/images/search_button.gif\" title=\"search\" type=\"image\" width=\"67\"/></td>\n",
            "<td height=\"38\" width=\"37\"><img alt=\"\" height=\"1\" src=\"http://i.bookmooch.com/images/spacer.gif\" width=\"10\"/></td></tr>\n",
            "</table>\n",
            "</td>\n",
            "<td bgcolor=\"#689A9B\" width=\"940\"><img alt=\"\" height=\"1\" src=\"http://i.bookmooch.com/images/spacer.gif\" width=\"1\"/></td>\n",
            "</form></tr>\n",
            "<tr>\n",
            "<td bgcolor=\"#689A9B\" height=\"28\" width=\"193\"><img alt=\"\" height=\"28\" src=\"http://i.bookmooch.com/images/spacer.gif\" width=\"193\"/></td>\n",
            "<td bgcolor=\"#FFFF99\"><a href=\"/\"><img alt=\"home\" border=\"0\" height=\"28\" src=\"http://i.bookmooch.com/images/home.gif\" width=\"85\"/></a></td>\n",
            "<td bgcolor=\"#98D5DF\"><a href=\"/browse\"><img alt=\"browse\" border=\"0\" height=\"28\" src=\"http://i.bookmooch.com/images/browse_selected.gif\" width=\"86\"/></a></td>\n",
            "<td bgcolor=\"#97D5DF\" colspan=\"2\"><a href=\"/about/\"><img alt=\"about\" border=\"0\" height=\"28\" src=\"http://i.bookmooch.com/images/about.gif\" width=\"85\"/></a></td>\n",
            "<td bgcolor=\"#8DD1D8\"><a href=\"/join\"><img alt=\"join\" border=\"0\" height=\"28\" src=\"http://i.bookmooch.com/images/join.gif\" width=\"86\"/></a></td>\n",
            "<td bgcolor=\"#92D3DD\"><a href=\"/login\"><img alt=\"login\" border=\"0\" height=\"28\" src=\"http://i.bookmooch.com/images/login.gif\" width=\"84\"/></a></td>\n",
            "<td bgcolor=\"#689A9B\" colspan=\"2\" height=\"28\" width=\"38\"><img alt=\"\" height=\"28\" src=\"http://i.bookmooch.com/images/spacer.gif\" width=\"38\"/></td><td bgcolor=\"#689A9B\" width=\"100%\"><img alt=\"\" height=\"1\" src=\"http://i.bookmooch.com/images/spacer.gif\" width=\"1\"/></td>\n",
            "</tr>\n",
            "<tr>\n",
            "<td bgcolor=\"#FFFF99\" colspan=\"11\" height=\"4\" width=\"940\">\n",
            "<img alt=\"\" height=\"4\" src=\"http://i.bookmooch.com/images/spacer.gif\" width=\"940\"/></td><td bgcolor=\"#FFFF99\" width=\"100%\"><img alt=\"\" height=\"1\" src=\"http://i.bookmooch.com/images/spacer.gif\" width=\"1\"/></td>\n",
            "</tr>\n",
            "</table>\n",
            "<table border=\"0\" cellpadding=\"0\" cellspacing=\"0\" width=\"100%\"><tr>\n",
            "<td><img alt=\"\" height=\"12\" src=\"http://i.bookmooch.com/images/spacer.gif\" width=\"1\"/></td><td></td><td></td></tr><td width=\"12\"><img alt=\"\" height=\"1\" src=\"http://i.bookmooch.com/images/spacer.gif\" width=\"12\"/></td><td>\n",
            "<table border=\"0\" cellpadding=\"0\" cellspacing=\"0\" width=\"891\"><tr><td align=\"left\"><font color=\"#1F4A58\" face=\"Verdana, Arial, utopia, sans-serif\" size=\"4\">Paul Merton : My Struggle</font></td><td align=\"right\"><table border=\"0\" cellpadding=\"0\" cellspacing=\"0\" height=\"18\" id=\"button\">\n",
            "<tr>\n",
            "<td bgcolor=\"#6EB0B1\">\n",
            "<a href=\"http://wiki.bookmooch.com/index.php?title=Book+detail\" target=\"help\" title=\"help\"><img alt=\"\" bgcolor=\"#6EB0B1\" border=\"0\" height=\"18\" src=\"http://i.bookmooch.com/images/button_template_left.gif\" width=\"5\"/></a></td>\n",
            "<td bgcolor=\"#6EB0B1\" height=\"18\" valign=\"middle\"><a href=\"http://wiki.bookmooch.com/index.php?title=Book+detail\" style=\"text-decoration:none\" target=\"help\" title=\"help\"><font color=\"#FFFFFF\" face=\"Verdana, Arial, utopia, sans-serif\" size=\"2\"><nobr>?</nobr></font></a></td>\n",
            "<td bgcolor=\"#6EB0B1\">\n",
            "<a href=\"http://wiki.bookmooch.com/index.php?title=Book+detail\" target=\"help\" title=\"help\"><img alt=\"\" bgcolor=\"#6EB0B1\" border=\"0\" height=\"18\" src=\"http://i.bookmooch.com/images/button_template_right.gif\" width=\"6\"/></a></td>\n",
            "</tr>\n",
            "</table></td></tr></table><img alt=\"\" height=\"5\" src=\"http://i.bookmooch.com/images/spacer.gif\" width=\"5\"/><br/><img alt=\"\" height=\"1\" src=\"http://i.bookmooch.com/images/greydot.gif\" width=\"891\"/><br/><img alt=\"\" height=\"12\" src=\"http://i.bookmooch.com/images/spacer.gif\" width=\"1\"/><br/>\n",
            "<table border=\"0\" cellpadding=\"0\" cellspacing=\"0\" width=\"1221\"><tr><td valign=\"top\">\n",
            "<table border=\"0\" cellpadding=\"1\" cellspacing=\"0\" width=\"891\"><tr>\n",
            "<td align=\"left\" valign=\"top\">\n",
            "<table border=\"0\" cellpadding=\"1\" cellspacing=\"0\" width=\"100%\">\n",
            "<tr>\n",
            "<td align=\"right\" bgcolor=\"FFFFFF\" valign=\"top\">Author:</td>\n",
            "<td></td>\n",
            "<td bgcolor=\"FFFFFF\" valign=\"top\"><a for=\"\" href=\"/s/paul+merton\" title=\"Search for this author\">Paul Merton</a>\n",
            "</td>\n",
            "</tr>\n",
            "<tr>\n",
            "<td align=\"right\" bgcolor=\"FFFFFF\" valign=\"top\" width=\"10%\">Title:</td>\n",
            "<td><img alt=\"\" height=\"1\" src=\"http://i.bookmooch.com/images/spacer.gif\" width=\"12\"/></td>\n",
            "<td bgcolor=\"FFFFFF\" valign=\"top\" width=\"90%\"><a href=\"/s/my+struggle\" title=\"Search for this title\">My Struggle</a></td>\n",
            "</tr>\n",
            "<tr>\n",
            "<td align=\"right\" bgcolor=\"FFFFFF\" valign=\"top\">Moochable copies:</td>\n",
            "<td></td>\n",
            "<td bgcolor=\"FFFFFF\" valign=\"top\">No copies available</td>\n",
            "</tr>\n",
            "<tr>\n",
            "<td align=\"right\" bgcolor=\"FFFFFF\" valign=\"top\">Topics:</td>\n",
            "<td></td><form action=\"/topic_go\" method=\"get\" name=\"form\">\n",
            "<td bgcolor=\"FFFFFF\" valign=\"top\">\n",
            "<table border=\"0\" cellpadding=\"0\" cellspacing=\"0\"><tr><td align=\"left\" valign=\"top\"><select name=\"name\" size=\"1\"><option value=\"Audiobooks\">Audiobooks</option><option value=\"Books on Cassette\">Books on Cassette</option><option value=\"Edition (format)\">Edition (format)</option><option value=\"Entertainment\">Entertainment</option><option value=\"Humor\">Humor</option><option value=\"Refinements\">Refinements</option><option value=\"Unabridged\">Unabridged</option><option value=\"Unlaunched Refinements\">Unlaunched Refinements</option></select></td><td><img alt=\"\" height=\"1\" src=\"http://i.bookmooch.com/images/spacer.gif\" width=\"5\"/></td><td align=\"left\" valign=\"top\"><table border=\"0\" cellpadding=\"0\" cellspacing=\"0\" height=\"18\" id=\"button\">\n",
            "<tr>\n",
            "<td bgcolor=\"#6EB0B1\">\n",
            "<a href=\"javascript:document.form.submit();\" title=\"\"><img alt=\"\" bgcolor=\"#6EB0B1\" border=\"0\" height=\"18\" src=\"http://i.bookmooch.com/images/button_template_left.gif\" width=\"5\"/></a></td>\n",
            "<td bgcolor=\"#6EB0B1\" height=\"18\" valign=\"middle\"><a href=\"javascript:document.form.submit();\" style=\"text-decoration:none\" title=\"\"><font color=\"#FFFFFF\" face=\"Verdana, Arial, utopia, sans-serif\" size=\"1\"><nobr>&gt;</nobr></font></a></td>\n",
            "<td bgcolor=\"#6EB0B1\">\n",
            "<a href=\"javascript:document.form.submit();\" title=\"\"><img alt=\"\" bgcolor=\"#6EB0B1\" border=\"0\" height=\"18\" src=\"http://i.bookmooch.com/images/button_template_right.gif\" width=\"6\"/></a></td>\n",
            "</tr>\n",
            "</table></td></tr></table>\n",
            "</td></form>\n",
            "</tr>\n",
            "<tr>\n",
            "<td align=\"right\" bgcolor=\"FFFFFF\" valign=\"top\">Published in:</td>\n",
            "<td></td>\n",
            "<td bgcolor=\"FFFFFF\" valign=\"top\">English</td>\n",
            "</tr>\n",
            "<tr>\n",
            "<td align=\"right\" bgcolor=\"FFFFFF\" valign=\"top\">Binding:</td>\n",
            "<td></td>\n",
            "<td bgcolor=\"FFFFFF\" valign=\"top\">Audio Cassette</td>\n",
            "</tr>\n",
            "<tr>\n",
            "<td align=\"right\" bgcolor=\"FFFFFF\" valign=\"top\">Pages:</td>\n",
            "<td></td>\n",
            "<td bgcolor=\"FFFFFF\"></td>\n",
            "</tr>\n",
            "<tr>\n",
            "<td align=\"right\" bgcolor=\"FFFFFF\" valign=\"top\">Date:</td>\n",
            "<td></td>\n",
            "<td bgcolor=\"FFFFFF\" valign=\"top\">1996-05-20</td>\n",
            "</tr>\n",
            "<tr>\n",
            "<td align=\"right\" bgcolor=\"FFFFFF\" valign=\"top\">ISBN:</td>\n",
            "<td></td>\n",
            "<td bgcolor=\"FFFFFF\" valign=\"top\">0001052144</td>\n",
            "</tr>\n",
            "<tr>\n",
            "<td align=\"right\" bgcolor=\"FFFFFF\" valign=\"top\">Publisher:</td>\n",
            "<td></td>\n",
            "<td bgcolor=\"FFFFFF\" valign=\"top\"><a href=\"/s/HarperCollins+Audio\" title=\"Search for this publisher\">HarperCollins Audio</a></td>\n",
            "</tr>\n",
            "<tr>\n",
            "<td align=\"right\" bgcolor=\"FFFFFF\" valign=\"top\">Weight:</td>\n",
            "<td></td>\n",
            "<td bgcolor=\"FFFFFF\" valign=\"top\">0.49 pounds</td>\n",
            "</tr>\n",
            "<tr>\n",
            "<td align=\"right\" bgcolor=\"FFFFFF\" valign=\"top\">Size:</td>\n",
            "<td></td>\n",
            "<td bgcolor=\"FFFFFF\" valign=\"top\">4.25 x 5.28 x 0.63 inches</td>\n",
            "</tr>\n",
            "<tr>\n",
            "<td align=\"right\" bgcolor=\"FFFFFF\" valign=\"top\">Edition:</td>\n",
            "<td></td>\n",
            "<td bgcolor=\"FFFFFF\" valign=\"top\">Unabridged</td>\n",
            "</tr>\n",
            "<td align=\"right\" bgcolor=\"FFFFFF\" valign=\"top\">Amazon prices:</td>\n",
            "<td></td>\n",
            "<td bgcolor=\"FFFFFF\" valign=\"top\"><table bgcolor=\"DDDDDD\" cellpadding=\"0\" cellspacing=\"1\"><tr><td><table bgcolor=\"FFFFFF\" cellpadding=\"0\" cellspacing=\"3\"><tr><td>\n",
            "<table bgcolor=\"FFFFFF\" cellpadding=\"0\" cellspacing=\"0\">\n",
            "</table>\n",
            "</td></tr></table></td></tr></table> <font size=\"1\"></font></td>\n",
            "<tr>\n",
            "<td align=\"right\" bgcolor=\"FFFFFF\" valign=\"top\"></td>\n",
            "<td></td>\n",
            "<td bgcolor=\"FFFFFF\" valign=\"top\"></td>\n",
            "</tr>\n",
            "<tr>\n",
            "<td align=\"right\" bgcolor=\"FFFFFF\" valign=\"top\">Description:</td>\n",
            "<td></td>\n",
            "<td bgcolor=\"FFFFFF\" valign=\"top\"><i>Product Description</i><br/>\n",
            "In this spoof of the showbiz autobiography genre, Paul Merton writes of an East End childhood, the last days of the music halls, Pinewood, success in the Sixties, hard times, depression, wives, and a rise to the heady heights of success.\n",
            "\n",
            "</td>\n",
            "</tr>\n",
            "<tr>\n",
            "<td align=\"right\" bgcolor=\"FFFFFF\" valign=\"top\">URL:</td>\n",
            "<td></td>\n",
            "<td bgcolor=\"FFFFFF\" valign=\"top\"><a href=\"http://bookmooch.com/0001052144\" title=\"Link to this book\">http://bookmooch.com/0001052144</a></td>\n",
            "</tr>\n",
            "</table></td><td align=\"right\" valign=\"top\">\n",
            "<a href=\"http://ecx.images-amazon.com/images/I/519HN29VHDL._SL500_.jpg\" onmouseover=\"this.T_WIDTH='';return escape('&lt;img src=\\'http://images.amazon.com/images/P/0001052144.01._BO1,130,130,130_PC_SCLZZZZZZZ_.jpg\\' height=\\'\\' width=\\'\\'&gt;')\" target=\"lgamazon\" title=\"large book cover\"><img align=\"none\" alt=\"large book cover\" border=\"0\" height=\"87\" src=\"http://images.amazon.com/images/P/0001052144.01._BO1,130,130,130_PC_SCTZZZZZZZ_.jpg\" width=\"70\"/></a><p>\n",
            "</p><p>\n",
            "</p><table border=\"0\" cellpadding=\"0\" cellspacing=\"0\" height=\"18\" id=\"button\">\n",
            "<tr>\n",
            "<td bgcolor=\"#6EB0B1\">\n",
            "<a href=\"/m/wishlist_add?asin=0001052144&amp;store=amazon.com\" title=\"add this book to the list of books you want right away\"><img alt=\"\" bgcolor=\"#6EB0B1\" border=\"0\" height=\"18\" src=\"http://i.bookmooch.com/images/button_template_left.gif\" width=\"5\"/></a></td>\n",
            "<td bgcolor=\"#6EB0B1\" height=\"18\" valign=\"middle\"><a href=\"/m/wishlist_add?asin=0001052144&amp;store=amazon.com\" style=\"text-decoration:none\" title=\"add this book to the list of books you want right away\"><font color=\"#FFFFFF\" face=\"Verdana, Arial, utopia, sans-serif\" size=\"2\"><nobr>WISHLIST ADD &gt;</nobr></font></a></td>\n",
            "<td bgcolor=\"#6EB0B1\">\n",
            "<a href=\"/m/wishlist_add?asin=0001052144&amp;store=amazon.com\" title=\"add this book to the list of books you want right away\"><img alt=\"\" bgcolor=\"#6EB0B1\" border=\"0\" height=\"18\" src=\"http://i.bookmooch.com/images/button_template_right.gif\" width=\"6\"/></a></td>\n",
            "</tr>\n",
            "</table><img alt=\"\" height=\"2\" src=\"http://i.bookmooch.com/images/spacer.gif\" width=\"1\"/><br/>\n",
            "<table border=\"0\" cellpadding=\"0\" cellspacing=\"0\" height=\"18\" id=\"button\">\n",
            "<tr>\n",
            "<td bgcolor=\"#6EB0B1\">\n",
            "<a href=\"/m/savelater_add?asin=0001052144&amp;store=amazon.com\" title=\"add this book to those you may someday want\"><img alt=\"\" bgcolor=\"#6EB0B1\" border=\"0\" height=\"18\" src=\"http://i.bookmooch.com/images/button_template_left.gif\" width=\"5\"/></a></td>\n",
            "<td bgcolor=\"#6EB0B1\" height=\"18\" valign=\"middle\"><a href=\"/m/savelater_add?asin=0001052144&amp;store=amazon.com\" style=\"text-decoration:none\" title=\"add this book to those you may someday want\"><font color=\"#FFFFFF\" face=\"Verdana, Arial, utopia, sans-serif\" size=\"2\"><nobr>SAVE FOR LATER &gt;</nobr></font></a></td>\n",
            "<td bgcolor=\"#6EB0B1\">\n",
            "<a href=\"/m/savelater_add?asin=0001052144&amp;store=amazon.com\" title=\"add this book to those you may someday want\"><img alt=\"\" bgcolor=\"#6EB0B1\" border=\"0\" height=\"18\" src=\"http://i.bookmooch.com/images/button_template_right.gif\" width=\"6\"/></a></td>\n",
            "</tr>\n",
            "</table><img alt=\"\" height=\"2\" src=\"http://i.bookmooch.com/images/spacer.gif\" width=\"1\"/><br/>\n",
            "<table border=\"0\" cellpadding=\"0\" cellspacing=\"0\" height=\"18\" id=\"button\">\n",
            "<tr>\n",
            "<td bgcolor=\"#6EB0B1\">\n",
            "<a href=\"http://www.amazon.it/gp/product/0001052144?ie=UTF8&amp;tag=book05e-21&amp;linkCode=bn1\" target=\"amazon-0001052144\" title=\"more info about this book at Amazon (a small commission goes to BookMooch if you buy books with this link)\"><img alt=\"\" bgcolor=\"#6EB0B1\" border=\"0\" height=\"18\" src=\"http://i.bookmooch.com/images/button_template_left.gif\" width=\"5\"/></a></td>\n",
            "<td bgcolor=\"#6EB0B1\" height=\"18\" valign=\"middle\"><a href=\"http://www.amazon.it/gp/product/0001052144?ie=UTF8&amp;tag=book05e-21&amp;linkCode=bn1\" style=\"text-decoration:none\" target=\"amazon-0001052144\" title=\"more info about this book at Amazon (a small commission goes to BookMooch if you buy books with this link)\"><font color=\"#FFFFFF\" face=\"Verdana, Arial, utopia, sans-serif\" size=\"2\"><nobr>AMAZON &gt;</nobr></font></a></td>\n",
            "<td bgcolor=\"#6EB0B1\">\n",
            "<a href=\"http://www.amazon.it/gp/product/0001052144?ie=UTF8&amp;tag=book05e-21&amp;linkCode=bn1\" target=\"amazon-0001052144\" title=\"more info about this book at Amazon (a small commission goes to BookMooch if you buy books with this link)\"><img alt=\"\" bgcolor=\"#6EB0B1\" border=\"0\" height=\"18\" src=\"http://i.bookmooch.com/images/button_template_right.gif\" width=\"6\"/></a></td>\n",
            "</tr>\n",
            "</table><img alt=\"\" height=\"2\" src=\"http://i.bookmooch.com/images/spacer.gif\" width=\"1\"/><br/>\n",
            "<table border=\"0\" cellpadding=\"0\" cellspacing=\"0\" height=\"18\" id=\"button\">\n",
            "<tr>\n",
            "<td bgcolor=\"#6EB0B1\">\n",
            "<a href=\"/book_sites?asin=0001052144\" title=\"other web sites with information about this book\"><img alt=\"\" bgcolor=\"#6EB0B1\" border=\"0\" height=\"18\" src=\"http://i.bookmooch.com/images/button_template_left.gif\" width=\"5\"/></a></td>\n",
            "<td bgcolor=\"#6EB0B1\" height=\"18\" valign=\"middle\"><a href=\"/book_sites?asin=0001052144\" style=\"text-decoration:none\" title=\"other web sites with information about this book\"><font color=\"#FFFFFF\" face=\"Verdana, Arial, utopia, sans-serif\" size=\"2\"><nobr>OTHER WEB SITES &gt;</nobr></font></a></td>\n",
            "<td bgcolor=\"#6EB0B1\">\n",
            "<a href=\"/book_sites?asin=0001052144\" title=\"other web sites with information about this book\"><img alt=\"\" bgcolor=\"#6EB0B1\" border=\"0\" height=\"18\" src=\"http://i.bookmooch.com/images/button_template_right.gif\" width=\"6\"/></a></td>\n",
            "</tr>\n",
            "</table><img alt=\"\" height=\"2\" src=\"http://i.bookmooch.com/images/spacer.gif\" width=\"1\"/><br/>\n",
            "<table border=\"0\" cellpadding=\"0\" cellspacing=\"0\" height=\"18\" id=\"button\">\n",
            "<tr>\n",
            "<td bgcolor=\"#6EB0B1\">\n",
            "<a href=\"/related_show?asin=0001052144\" title=\"show books that are related editions to this one\"><img alt=\"\" bgcolor=\"#6EB0B1\" border=\"0\" height=\"18\" src=\"http://i.bookmooch.com/images/button_template_left.gif\" width=\"5\"/></a></td>\n",
            "<td bgcolor=\"#6EB0B1\" height=\"18\" valign=\"middle\"><a href=\"/related_show?asin=0001052144\" style=\"text-decoration:none\" title=\"show books that are related editions to this one\"><font color=\"#FFFFFF\" face=\"Verdana, Arial, utopia, sans-serif\" size=\"2\"><nobr>RELATED EDITIONS &gt;</nobr></font></a></td>\n",
            "<td bgcolor=\"#6EB0B1\">\n",
            "<a href=\"/related_show?asin=0001052144\" title=\"show books that are related editions to this one\"><img alt=\"\" bgcolor=\"#6EB0B1\" border=\"0\" height=\"18\" src=\"http://i.bookmooch.com/images/button_template_right.gif\" width=\"6\"/></a></td>\n",
            "</tr>\n",
            "</table><img alt=\"\" height=\"2\" src=\"http://i.bookmooch.com/images/spacer.gif\" width=\"1\"/><br/>\n",
            "<table border=\"0\" cellpadding=\"0\" cellspacing=\"0\" height=\"18\" id=\"button\">\n",
            "<tr>\n",
            "<td bgcolor=\"#6EB0B1\">\n",
            "<a href=\"/recommend?asin=0001052144\" title=\"recommend this book to someone else\"><img alt=\"\" bgcolor=\"#6EB0B1\" border=\"0\" height=\"18\" src=\"http://i.bookmooch.com/images/button_template_left.gif\" width=\"5\"/></a></td>\n",
            "<td bgcolor=\"#6EB0B1\" height=\"18\" valign=\"middle\"><a href=\"/recommend?asin=0001052144\" style=\"text-decoration:none\" title=\"recommend this book to someone else\"><font color=\"#FFFFFF\" face=\"Verdana, Arial, utopia, sans-serif\" size=\"2\"><nobr>RECOMMEND &gt;</nobr></font></a></td>\n",
            "<td bgcolor=\"#6EB0B1\">\n",
            "<a href=\"/recommend?asin=0001052144\" title=\"recommend this book to someone else\"><img alt=\"\" bgcolor=\"#6EB0B1\" border=\"0\" height=\"18\" src=\"http://i.bookmooch.com/images/button_template_right.gif\" width=\"6\"/></a></td>\n",
            "</tr>\n",
            "</table><img alt=\"\" height=\"2\" src=\"http://i.bookmooch.com/images/spacer.gif\" width=\"1\"/><br/>\n",
            "</td></tr></table>\n",
            "</td><td width=\"10\"><img alt=\"\" height=\"1\" src=\"http://i.bookmooch.com/images/spacer.gif\" width=\"10\"/></td><td valign=\"top\" width=\"320\" xbgcolor=\"AAAAAA\"><link href=\"http://cache.blogads.com/582081819/feed.css\" rel=\"stylesheet\" type=\"text/css\"/><script language=\"javascript\" src=\"http://cache.blogads.com/582081819/feed.js\"></script><link href=\"http://cache.blogads.com/990819385/feed.css\" rel=\"stylesheet\" type=\"text/css\"/><script language=\"javascript\" src=\"http://cache.blogads.com/990819385/feed.js\"></script><br/></td></tr></table>\n",
            "</td><td><img alt=\"\" height=\"12\" src=\"http://i.bookmooch.com/images/spacer.gif\" width=\"12\"/></td><tr><td></td><td></td></tr></table>\n",
            "<script language=\"JavaScript\" src=\"http://i.bookmooch.com/js/wz_tooltip.js\" type=\"text/javascript\"></script>\n",
            "</font></body>\n",
            "</html>\n"
          ]
        }
      ],
      "source": [
        "print(soup)"
      ]
    },
    {
      "cell_type": "markdown",
      "metadata": {
        "id": "fGBTg9g4DMVJ"
      },
      "source": [
        "#### Data processing"
      ]
    },
    {
      "cell_type": "code",
      "execution_count": null,
      "metadata": {
        "id": "nbpM3QUwDMVK"
      },
      "outputs": [],
      "source": []
    },
    {
      "cell_type": "code",
      "execution_count": null,
      "metadata": {
        "id": "Hklvhb6RDMVL"
      },
      "outputs": [],
      "source": []
    },
    {
      "cell_type": "code",
      "execution_count": null,
      "metadata": {
        "id": "H59-VAGmDMVM"
      },
      "outputs": [],
      "source": []
    },
    {
      "cell_type": "markdown",
      "metadata": {
        "id": "_h_c-1kBDMVN"
      },
      "source": [
        "#### Vizualization"
      ]
    },
    {
      "cell_type": "markdown",
      "metadata": {
        "id": "HTu83iAWDMVN"
      },
      "source": [
        "As a visualisation, it is necessary to construct a frequency distribution of words (the 100 most common words), sorted by frequency. \n",
        "\n",
        "For visualization purposes we advice you to use plotly, but you are free to choose other libraries"
      ]
    },
    {
      "cell_type": "code",
      "execution_count": null,
      "metadata": {
        "id": "bHX6IXcrDMVO"
      },
      "outputs": [],
      "source": []
    },
    {
      "cell_type": "markdown",
      "metadata": {
        "id": "5ZxcPfLTDMVO"
      },
      "source": [
        "#### Provide examples of processed text (some parts)\n",
        "\n",
        "Is everything all right with the result of cleaning these examples? What kind of information was lost?"
      ]
    },
    {
      "cell_type": "code",
      "execution_count": null,
      "metadata": {
        "id": "2BSMfa9lDMVP"
      },
      "outputs": [],
      "source": []
    },
    {
      "cell_type": "code",
      "execution_count": null,
      "metadata": {
        "id": "0xn6XK7UDMVP"
      },
      "outputs": [],
      "source": []
    },
    {
      "cell_type": "markdown",
      "metadata": {
        "id": "IlSeYg4sDMVQ"
      },
      "source": [
        "# [10 points] Part 2. Duplicates detection. LSH"
      ]
    },
    {
      "cell_type": "markdown",
      "metadata": {
        "id": "ZuMBHSiDDMVR"
      },
      "source": [
        "#### Libraries you can use\n",
        "\n",
        "1. LSH - https://github.com/ekzhu/datasketch\n",
        "1. LSH - https://github.com/mattilyra/LSH\n",
        "1. Any other library on your choise"
      ]
    },
    {
      "cell_type": "markdown",
      "metadata": {
        "id": "uff5aBpgDMVR"
      },
      "source": [
        "1. Detect duplicated text (duplicates do not imply a complete word-to-word match, but texts that may contain a paraphrase, rearrangement of words, sentences)\n",
        "1. Make a plot dependency of duplicates on shingle size (with fixed minhash length) \n",
        "1. Make a plot dependency of duplicates on minhash length (with fixed shingle size)"
      ]
    },
    {
      "cell_type": "code",
      "execution_count": null,
      "metadata": {
        "id": "QOFZ7AvyDMVS"
      },
      "outputs": [],
      "source": []
    },
    {
      "cell_type": "code",
      "execution_count": null,
      "metadata": {
        "id": "HPonm9U3DMVS"
      },
      "outputs": [],
      "source": []
    },
    {
      "cell_type": "markdown",
      "metadata": {
        "id": "njdTa1daDMVS"
      },
      "source": [
        "# [Optional 10 points] Part 3. Topic model"
      ]
    },
    {
      "cell_type": "markdown",
      "metadata": {
        "id": "4BwJNkn2DMVT"
      },
      "source": [
        "In this part you will learn how to do topic modeling with common tools and assess the resulting quality of the models. "
      ]
    },
    {
      "cell_type": "code",
      "execution_count": null,
      "metadata": {
        "id": "l0WcLMhHDMVT"
      },
      "outputs": [],
      "source": []
    },
    {
      "cell_type": "markdown",
      "metadata": {
        "id": "WkNFzxqPDMVU"
      },
      "source": [
        "The provided data contain chunked stories by Edgar Allan Poe (EAP), Mary Shelley (MWS), and HP Lovecraft (HPL).\n",
        "\n",
        "The dataset can be downloaded here: `https://drive.google.com/file/d/14tAjAzHr6UmFVFV7ABTyNHBh-dWHAaLH/view?usp=sharing`"
      ]
    },
    {
      "cell_type": "markdown",
      "metadata": {
        "id": "5BNIa1miDMVU"
      },
      "source": [
        "#### Preprocess dataset with the functions from the Part 1"
      ]
    },
    {
      "cell_type": "code",
      "execution_count": null,
      "metadata": {
        "id": "9B8PZNRyDMVV"
      },
      "outputs": [],
      "source": []
    },
    {
      "cell_type": "markdown",
      "metadata": {
        "id": "qKU2D29CDMVV"
      },
      "source": [
        "#### Quality estimation"
      ]
    },
    {
      "cell_type": "markdown",
      "metadata": {
        "id": "l6xfd3vpDMVW"
      },
      "source": [
        "Implement the following three quality fuctions: `coherence` (or `tf-idf coherence`), `normalized PMI`, `based on the distributed word representation`(you can use pretrained w2v vectors or some other model). You are free to use any libraries (for instance gensim) and components."
      ]
    },
    {
      "cell_type": "code",
      "execution_count": null,
      "metadata": {
        "id": "AEtv-gWcDMVW"
      },
      "outputs": [],
      "source": []
    },
    {
      "cell_type": "markdown",
      "metadata": {
        "id": "Kp1jTJmPDMVX"
      },
      "source": [
        "### Topic modeling"
      ]
    },
    {
      "cell_type": "markdown",
      "metadata": {
        "id": "lgbVtgphDMVX"
      },
      "source": [
        "Read and preprocess the dataset, divide it into train and test parts `sklearn.model_selection.train_test_split`. Test part will be used in classification part. For simplicity we do not perform cross-validation here, but you should remember about it."
      ]
    },
    {
      "cell_type": "code",
      "execution_count": null,
      "metadata": {
        "id": "_Uh0J_C8DMVY"
      },
      "outputs": [],
      "source": []
    },
    {
      "cell_type": "markdown",
      "metadata": {
        "id": "rNepVz1wDMVY"
      },
      "source": [
        "Plot the histogram of resulting tokens counts in the processed datasets."
      ]
    },
    {
      "cell_type": "code",
      "execution_count": null,
      "metadata": {
        "id": "L_7JVEfbDMVZ"
      },
      "outputs": [],
      "source": []
    },
    {
      "cell_type": "markdown",
      "metadata": {
        "id": "ulOjNL9vDMVZ"
      },
      "source": [
        "Plot the histogram of resulting tokens counts in the processed datasets."
      ]
    },
    {
      "cell_type": "code",
      "execution_count": null,
      "metadata": {
        "id": "HAse0LBvDMVa"
      },
      "outputs": [],
      "source": []
    },
    {
      "cell_type": "markdown",
      "metadata": {
        "id": "4N86AaGNDMVa"
      },
      "source": [
        "#### NMF"
      ]
    },
    {
      "cell_type": "markdown",
      "metadata": {
        "id": "kPelcAFQDMVa"
      },
      "source": [
        "Implement topic modeling with NMF (you can use `sklearn.decomposition.NMF`) and print out resulting topics. Try to change hyperparameters to better fit the dataset."
      ]
    },
    {
      "cell_type": "code",
      "execution_count": null,
      "metadata": {
        "id": "DCPzCMMMDMVa"
      },
      "outputs": [],
      "source": []
    },
    {
      "cell_type": "markdown",
      "metadata": {
        "id": "zuaKAGIWDMVb"
      },
      "source": [
        "#### LDA"
      ]
    },
    {
      "cell_type": "markdown",
      "metadata": {
        "id": "PAK_MfQxDMVb"
      },
      "source": [
        "Implement topic modeling with LDA (you can use gensim implementation) and print out resulting topics. Try to change hyperparameters to better fit the dataset."
      ]
    },
    {
      "cell_type": "code",
      "execution_count": null,
      "metadata": {
        "id": "fdzopuCJDMVb"
      },
      "outputs": [],
      "source": []
    },
    {
      "cell_type": "markdown",
      "metadata": {
        "id": "vSF6fq0NDMVc"
      },
      "source": [
        "### Additive regularization of topic models "
      ]
    },
    {
      "cell_type": "markdown",
      "metadata": {
        "id": "tVcA4itQDMVc"
      },
      "source": [
        "Implement topic modeling with ARTM. You may use bigartm library (simple installation for linux: pip install bigartm) or TopicNet framework (`https://github.com/machine-intelligence-laboratory/TopicNet`)"
      ]
    },
    {
      "cell_type": "markdown",
      "metadata": {
        "id": "03xhr0PmDMVc"
      },
      "source": [
        "Create artm topic model fit it to the data. Try to change hyperparameters (number of specific and background topics) to better fit the dataset. Play with smoothing and sparsing coefficients (use grid), try to add decorrelator. Print out resulting topics."
      ]
    },
    {
      "cell_type": "code",
      "execution_count": null,
      "metadata": {
        "id": "tgv1qIUZDMVc"
      },
      "outputs": [],
      "source": []
    },
    {
      "cell_type": "markdown",
      "metadata": {
        "id": "mteOYV8TDMVd"
      },
      "source": [
        "Write a function to convert new documents to topics probabilities vectors."
      ]
    },
    {
      "cell_type": "code",
      "execution_count": null,
      "metadata": {
        "id": "IGkD9YaxDMVd"
      },
      "outputs": [],
      "source": []
    },
    {
      "cell_type": "markdown",
      "metadata": {
        "id": "SPrNOdMLDMVd"
      },
      "source": [
        "Calculate the quality scores for each model. Make a barplot to compare the quality."
      ]
    },
    {
      "cell_type": "code",
      "execution_count": null,
      "metadata": {
        "id": "hQadAQCXDMVd"
      },
      "outputs": [],
      "source": []
    }
  ],
  "metadata": {
    "colab": {
      "name": "Copy of HW1.ipynb",
      "provenance": []
    },
    "kernelspec": {
      "display_name": "Python 3",
      "language": "python",
      "name": "python3"
    },
    "language_info": {
      "codemirror_mode": {
        "name": "ipython",
        "version": 3
      },
      "file_extension": ".py",
      "mimetype": "text/x-python",
      "name": "python",
      "nbconvert_exporter": "python",
      "pygments_lexer": "ipython3",
      "version": "3.9.7"
    }
  },
  "nbformat": 4,
  "nbformat_minor": 0
}
